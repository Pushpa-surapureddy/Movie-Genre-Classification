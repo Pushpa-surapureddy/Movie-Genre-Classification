{
  "cells": [
    {
      "cell_type": "code",
      "execution_count": null,
      "metadata": {
        "id": "gjVO_McnpP5J"
      },
      "outputs": [],
      "source": [
        "from tensorflow.keras import layers\n",
        "from tensorflow import keras\n",
        "import tensorflow as tf\n",
        "from sklearn.model_selection import train_test_split\n",
        "from ast import literal_eval\n",
        "import matplotlib.pyplot as plt\n",
        "import pandas as pd\n",
        "import numpy as np"
      ]
    },
    {
      "cell_type": "code",
      "execution_count": null,
      "metadata": {
        "colab": {
          "base_uri": "https://localhost:8080/"
        },
        "id": "aM3UHTgHpVDm",
        "outputId": "e5907115-1465-47a9-ed9a-c15bc486d6a1"
      },
      "outputs": [
        {
          "name": "stderr",
          "output_type": "stream",
          "text": [
            "/tmp/ipython-input-2922662143.py:5: DeprecationWarning: Use dataset_load() instead of load_dataset(). load_dataset() will be removed in a future version.\n",
            "  df = kagglehub.load_dataset(\n"
          ]
        },
        {
          "name": "stdout",
          "output_type": "stream",
          "text": [
            "Downloading from https://www.kaggle.com/api/v1/datasets/download/jrobischon/wikipedia-movie-plots?dataset_version_number=1&file_name=wiki_movie_plots_deduped.csv...\n"
          ]
        },
        {
          "name": "stderr",
          "output_type": "stream",
          "text": [
            "100%|██████████| 29.9M/29.9M [00:00<00:00, 125MB/s]"
          ]
        },
        {
          "name": "stdout",
          "output_type": "stream",
          "text": [
            "Extracting zip of wiki_movie_plots_deduped.csv...\n"
          ]
        },
        {
          "name": "stderr",
          "output_type": "stream",
          "text": [
            "\n"
          ]
        },
        {
          "name": "stdout",
          "output_type": "stream",
          "text": [
            "First 5 records:    Release Year                             Title Origin/Ethnicity  \\\n",
            "0          1901            Kansas Saloon Smashers         American   \n",
            "1          1901     Love by the Light of the Moon         American   \n",
            "2          1901           The Martyred Presidents         American   \n",
            "3          1901  Terrible Teddy, the Grizzly King         American   \n",
            "4          1902            Jack and the Beanstalk         American   \n",
            "\n",
            "                             Director Cast    Genre  \\\n",
            "0                             Unknown  NaN  unknown   \n",
            "1                             Unknown  NaN  unknown   \n",
            "2                             Unknown  NaN  unknown   \n",
            "3                             Unknown  NaN  unknown   \n",
            "4  George S. Fleming, Edwin S. Porter  NaN  unknown   \n",
            "\n",
            "                                           Wiki Page  \\\n",
            "0  https://en.wikipedia.org/wiki/Kansas_Saloon_Sm...   \n",
            "1  https://en.wikipedia.org/wiki/Love_by_the_Ligh...   \n",
            "2  https://en.wikipedia.org/wiki/The_Martyred_Pre...   \n",
            "3  https://en.wikipedia.org/wiki/Terrible_Teddy,_...   \n",
            "4  https://en.wikipedia.org/wiki/Jack_and_the_Bea...   \n",
            "\n",
            "                                                Plot  \n",
            "0  A bartender is working at a saloon, serving dr...  \n",
            "1  The moon, painted with a smiling face hangs ov...  \n",
            "2  The film, just over a minute long, is composed...  \n",
            "3  Lasting just 61 seconds and consisting of two ...  \n",
            "4  The earliest known adaptation of the classic f...  \n"
          ]
        }
      ],
      "source": [
        "import kagglehub\n",
        "from kagglehub import KaggleDatasetAdapter\n",
        "file_path = \"wiki_movie_plots_deduped.csv\"\n",
        "\n",
        "df = kagglehub.load_dataset(\n",
        "  KaggleDatasetAdapter.PANDAS,\n",
        "  \"jrobischon/wikipedia-movie-plots\",\n",
        "  file_path,\n",
        ")\n",
        "\n",
        "print(\"First 5 records:\",df.head())\n"
      ]
    },
    {
      "cell_type": "code",
      "execution_count": null,
      "metadata": {
        "colab": {
          "background_save": true,
          "base_uri": "https://localhost:8080/",
          "height": 38
        },
        "id": "txxjfgOKZ786",
        "outputId": "a2e92b8f-4e52-4df8-b9f4-ccd42a7a66b0"
      },
      "outputs": [
        {
          "data": {
            "text/html": [
              "\n",
              "     <input type=\"file\" id=\"files-6fb19ff8-06cb-451b-b1ff-b62ec83ba280\" name=\"files[]\" multiple disabled\n",
              "        style=\"border:none\" />\n",
              "     <output id=\"result-6fb19ff8-06cb-451b-b1ff-b62ec83ba280\">\n",
              "      Upload widget is only available when the cell has been executed in the\n",
              "      current browser session. Please rerun this cell to enable.\n",
              "      </output>\n",
              "      <script>// Copyright 2017 Google LLC\n",
              "//\n",
              "// Licensed under the Apache License, Version 2.0 (the \"License\");\n",
              "// you may not use this file except in compliance with the License.\n",
              "// You may obtain a copy of the License at\n",
              "//\n",
              "//      http://www.apache.org/licenses/LICENSE-2.0\n",
              "//\n",
              "// Unless required by applicable law or agreed to in writing, software\n",
              "// distributed under the License is distributed on an \"AS IS\" BASIS,\n",
              "// WITHOUT WARRANTIES OR CONDITIONS OF ANY KIND, either express or implied.\n",
              "// See the License for the specific language governing permissions and\n",
              "// limitations under the License.\n",
              "\n",
              "/**\n",
              " * @fileoverview Helpers for google.colab Python module.\n",
              " */\n",
              "(function(scope) {\n",
              "function span(text, styleAttributes = {}) {\n",
              "  const element = document.createElement('span');\n",
              "  element.textContent = text;\n",
              "  for (const key of Object.keys(styleAttributes)) {\n",
              "    element.style[key] = styleAttributes[key];\n",
              "  }\n",
              "  return element;\n",
              "}\n",
              "\n",
              "// Max number of bytes which will be uploaded at a time.\n",
              "const MAX_PAYLOAD_SIZE = 100 * 1024;\n",
              "\n",
              "function _uploadFiles(inputId, outputId) {\n",
              "  const steps = uploadFilesStep(inputId, outputId);\n",
              "  const outputElement = document.getElementById(outputId);\n",
              "  // Cache steps on the outputElement to make it available for the next call\n",
              "  // to uploadFilesContinue from Python.\n",
              "  outputElement.steps = steps;\n",
              "\n",
              "  return _uploadFilesContinue(outputId);\n",
              "}\n",
              "\n",
              "// This is roughly an async generator (not supported in the browser yet),\n",
              "// where there are multiple asynchronous steps and the Python side is going\n",
              "// to poll for completion of each step.\n",
              "// This uses a Promise to block the python side on completion of each step,\n",
              "// then passes the result of the previous step as the input to the next step.\n",
              "function _uploadFilesContinue(outputId) {\n",
              "  const outputElement = document.getElementById(outputId);\n",
              "  const steps = outputElement.steps;\n",
              "\n",
              "  const next = steps.next(outputElement.lastPromiseValue);\n",
              "  return Promise.resolve(next.value.promise).then((value) => {\n",
              "    // Cache the last promise value to make it available to the next\n",
              "    // step of the generator.\n",
              "    outputElement.lastPromiseValue = value;\n",
              "    return next.value.response;\n",
              "  });\n",
              "}\n",
              "\n",
              "/**\n",
              " * Generator function which is called between each async step of the upload\n",
              " * process.\n",
              " * @param {string} inputId Element ID of the input file picker element.\n",
              " * @param {string} outputId Element ID of the output display.\n",
              " * @return {!Iterable<!Object>} Iterable of next steps.\n",
              " */\n",
              "function* uploadFilesStep(inputId, outputId) {\n",
              "  const inputElement = document.getElementById(inputId);\n",
              "  inputElement.disabled = false;\n",
              "\n",
              "  const outputElement = document.getElementById(outputId);\n",
              "  outputElement.innerHTML = '';\n",
              "\n",
              "  const pickedPromise = new Promise((resolve) => {\n",
              "    inputElement.addEventListener('change', (e) => {\n",
              "      resolve(e.target.files);\n",
              "    });\n",
              "  });\n",
              "\n",
              "  const cancel = document.createElement('button');\n",
              "  inputElement.parentElement.appendChild(cancel);\n",
              "  cancel.textContent = 'Cancel upload';\n",
              "  const cancelPromise = new Promise((resolve) => {\n",
              "    cancel.onclick = () => {\n",
              "      resolve(null);\n",
              "    };\n",
              "  });\n",
              "\n",
              "  // Wait for the user to pick the files.\n",
              "  const files = yield {\n",
              "    promise: Promise.race([pickedPromise, cancelPromise]),\n",
              "    response: {\n",
              "      action: 'starting',\n",
              "    }\n",
              "  };\n",
              "\n",
              "  cancel.remove();\n",
              "\n",
              "  // Disable the input element since further picks are not allowed.\n",
              "  inputElement.disabled = true;\n",
              "\n",
              "  if (!files) {\n",
              "    return {\n",
              "      response: {\n",
              "        action: 'complete',\n",
              "      }\n",
              "    };\n",
              "  }\n",
              "\n",
              "  for (const file of files) {\n",
              "    const li = document.createElement('li');\n",
              "    li.append(span(file.name, {fontWeight: 'bold'}));\n",
              "    li.append(span(\n",
              "        `(${file.type || 'n/a'}) - ${file.size} bytes, ` +\n",
              "        `last modified: ${\n",
              "            file.lastModifiedDate ? file.lastModifiedDate.toLocaleDateString() :\n",
              "                                    'n/a'} - `));\n",
              "    const percent = span('0% done');\n",
              "    li.appendChild(percent);\n",
              "\n",
              "    outputElement.appendChild(li);\n",
              "\n",
              "    const fileDataPromise = new Promise((resolve) => {\n",
              "      const reader = new FileReader();\n",
              "      reader.onload = (e) => {\n",
              "        resolve(e.target.result);\n",
              "      };\n",
              "      reader.readAsArrayBuffer(file);\n",
              "    });\n",
              "    // Wait for the data to be ready.\n",
              "    let fileData = yield {\n",
              "      promise: fileDataPromise,\n",
              "      response: {\n",
              "        action: 'continue',\n",
              "      }\n",
              "    };\n",
              "\n",
              "    // Use a chunked sending to avoid message size limits. See b/62115660.\n",
              "    let position = 0;\n",
              "    do {\n",
              "      const length = Math.min(fileData.byteLength - position, MAX_PAYLOAD_SIZE);\n",
              "      const chunk = new Uint8Array(fileData, position, length);\n",
              "      position += length;\n",
              "\n",
              "      const base64 = btoa(String.fromCharCode.apply(null, chunk));\n",
              "      yield {\n",
              "        response: {\n",
              "          action: 'append',\n",
              "          file: file.name,\n",
              "          data: base64,\n",
              "        },\n",
              "      };\n",
              "\n",
              "      let percentDone = fileData.byteLength === 0 ?\n",
              "          100 :\n",
              "          Math.round((position / fileData.byteLength) * 100);\n",
              "      percent.textContent = `${percentDone}% done`;\n",
              "\n",
              "    } while (position < fileData.byteLength);\n",
              "  }\n",
              "\n",
              "  // All done.\n",
              "  yield {\n",
              "    response: {\n",
              "      action: 'complete',\n",
              "    }\n",
              "  };\n",
              "}\n",
              "\n",
              "scope.google = scope.google || {};\n",
              "scope.google.colab = scope.google.colab || {};\n",
              "scope.google.colab._files = {\n",
              "  _uploadFiles,\n",
              "  _uploadFilesContinue,\n",
              "};\n",
              "})(self);\n",
              "</script> "
            ],
            "text/plain": [
              "<IPython.core.display.HTML object>"
            ]
          },
          "metadata": {},
          "output_type": "display_data"
        }
      ],
      "source": [
        "# Step 1: Upload kaggle.json (your Kaggle API key file)\n",
        "from google.colab import files\n",
        "files.upload()  # Choose kaggle.json from your local computer\n"
      ]
    },
    {
      "cell_type": "code",
      "execution_count": null,
      "metadata": {
        "colab": {
          "base_uri": "https://localhost:8080/"
        },
        "id": "oU0_hHzdYeX4",
        "outputId": "72fc336d-2764-49e9-fe43-e7e5b2008f60"
      },
      "outputs": [
        {
          "name": "stdout",
          "output_type": "stream",
          "text": [
            "cp: cannot create regular file '/root/.kaggle/kaggle.json': No such file or directory\n"
          ]
        }
      ],
      "source": [
        "!cp /content/kaggle.json ~/.kaggle/kaggle.json"
      ]
    },
    {
      "cell_type": "code",
      "execution_count": null,
      "metadata": {
        "id": "e3s6NoP4aCYb"
      },
      "outputs": [],
      "source": [
        "# Step 2: Create the .kaggle directory\n",
        "!mkdir -p ~/.kaggle\n",
        "\n",
        "# Step 3: Move kaggle.json to the correct location\n",
        "!cp kaggle.json ~/.kaggle/\n",
        "\n",
        "# Step 4: Set permissions to secure the file\n",
        "!chmod 600 ~/.kaggle/kaggle.json\n"
      ]
    },
    {
      "cell_type": "code",
      "execution_count": null,
      "metadata": {
        "colab": {
          "base_uri": "https://localhost:8080/"
        },
        "id": "OeL292traCU2",
        "outputId": "401ae6d0-1644-4d1f-cedf-dfba4d6259d9"
      },
      "outputs": [
        {
          "name": "stdout",
          "output_type": "stream",
          "text": [
            "ref                                                        title                                                    size  lastUpdated                 downloadCount  voteCount  usabilityRating  \n",
            "---------------------------------------------------------  -------------------------------------------------  ----------  --------------------------  -------------  ---------  ---------------  \n",
            "mosapabdelghany/medical-insurance-cost-dataset             Medical Insurance Cost Dataset                          16425  2025-08-24 11:54:36.533000          14023        280  1.0              \n",
            "zadafiyabhrami/global-crocodile-species-dataset            Global Crocodile Species Dataset                        57473  2025-08-26 08:46:11.950000           9226        264  1.0              \n",
            "codebynadiia/gdp-per-country-20202025                      GDP per Country 2020–2025                                5677  2025-09-04 14:37:43.563000           7633        143  1.0              \n",
            "adharshinikumar/screentime-vs-mentalwellness-survey-2025   Screen Time vs Mental Wellness Survey - 2025            10214  2025-09-14 15:49:10.683000           1703         29  1.0              \n",
            "saadaliyaseen/analyzing-student-academic-trends            Analyzing Student Academic Trends                        2430  2025-09-10 15:19:31.970000           4091        100  1.0              \n",
            "mjshubham21/movie-dataset-for-analytics-and-visualization  Movie Dataset for Analytics & Visualization          65136772  2025-09-08 12:13:22.823000           1864         26  1.0              \n",
            "yashdevladdha/uber-ride-analytics-dashboard                Uber Data Analytics Dashboard                        17324552  2025-08-08 11:13:42.920000          54886       1173  1.0              \n",
            "vrajesh0sharma7/used-car-price-prediction                  Used Car Price Prediction                              382872  2025-09-19 12:16:19.927000           1569         25  0.9411765        \n",
            "nabihazahid/spotify-dataset-for-churn-analysis             Spotify Analysis Dataset 2025                           99163  2025-08-28 23:44:35.173000           3250         41  1.0              \n",
            "wardabilal/salary-prediction-dataset                       Salary Prediction Dataset                               17048  2025-09-06 14:14:03.303000           2075         29  1.0              \n",
            "msnbehdani/mock-dataset-of-second-hand-car-sales           Car Sales Dataset: Model, Features, and Pricing        501188  2025-08-20 17:47:58.207000           8174        113  1.0              \n",
            "nabeelqureshitiii/student-performance-dataset              Student Performance Dataset                           9364133  2025-08-27 11:28:12.570000           3324         56  1.0              \n",
            "pinuto/us-oil-and-gas-production-and-disposition-20152025  📊 US Oil & Gas Production & Disposition 2015–2025     7970935  2025-09-18 09:57:04.747000            873         22  1.0              \n",
            "ayeshaimran123/academic-stress-level-maintenance-dataset   Academic Stress Level                                    2104  2025-09-12 07:46:59.777000           1089         30  1.0              \n",
            "navjotkaushal/coffee-sales-dataset                         Coffee Sales Dataset                                    38970  2025-08-19 09:37:30.057000          12963        168  0.8235294        \n",
            "ahmadrazakashif/spotify-popularity-songs                   Spotify_Popularity.Songs                                48213  2025-09-12 10:16:24.563000           1172         34  1.0              \n",
            "minahilfatima12328/car-sales-info                          Car_sales_info                                         501188  2025-09-06 13:21:40.360000           1907         39  1.0              \n",
            "hubertsidorowicz/football-players-stats-2025-2026          Football Players Stats (2025-2026)                     724697  2025-09-22 12:26:30.963000           1014         25  1.0              \n",
            "mosapabdelghany/adult-income-prediction-dataset            Adult Income Prediction Dataset                        460936  2025-08-28 11:56:47.150000           1682         17  1.0              \n",
            "mdsultanulislamovi/sleep-disorder-diagnosis-dataset        Sleep Disorder Diagnosis Dataset                         2604  2025-09-08 02:54:32.503000           1995         35  1.0              \n"
          ]
        }
      ],
      "source": [
        "# Step 5: Test Kaggle API (list datasets)\n",
        "!kaggle datasets list\n"
      ]
    },
    {
      "cell_type": "code",
      "execution_count": null,
      "metadata": {
        "colab": {
          "base_uri": "https://localhost:8080/"
        },
        "id": "wPUrWzzmaCR8",
        "outputId": "d380f2b9-650f-4f60-8f2a-9c95b969a652"
      },
      "outputs": [
        {
          "name": "stdout",
          "output_type": "stream",
          "text": [
            "401 Client Error: Unauthorized for url: https://www.kaggle.com/api/v1/competitions/data/download-all/titanic\n"
          ]
        }
      ],
      "source": [
        "# Step 6: Download a dataset (example: Titanic dataset)\n",
        "!kaggle competitions download -c titanic\n",
        "# or for datasets:\n",
        "# !kaggle datasets download -d <dataset-identifier>\n"
      ]
    },
    {
      "cell_type": "code",
      "execution_count": null,
      "metadata": {
        "colab": {
          "base_uri": "https://localhost:8080/"
        },
        "id": "Z8k2l8nSaCPX",
        "outputId": "b5ab1ee3-eac5-4bc7-fae8-b0051dd32326"
      },
      "outputs": [
        {
          "name": "stdout",
          "output_type": "stream",
          "text": [
            "Requirement already satisfied: kagglehub in /usr/local/lib/python3.12/dist-packages (0.3.13)\n",
            "Requirement already satisfied: packaging in /usr/local/lib/python3.12/dist-packages (from kagglehub) (25.0)\n",
            "Requirement already satisfied: pyyaml in /usr/local/lib/python3.12/dist-packages (from kagglehub) (6.0.2)\n",
            "Requirement already satisfied: requests in /usr/local/lib/python3.12/dist-packages (from kagglehub) (2.32.4)\n",
            "Requirement already satisfied: tqdm in /usr/local/lib/python3.12/dist-packages (from kagglehub) (4.67.1)\n",
            "Requirement already satisfied: charset_normalizer<4,>=2 in /usr/local/lib/python3.12/dist-packages (from requests->kagglehub) (3.4.3)\n",
            "Requirement already satisfied: idna<4,>=2.5 in /usr/local/lib/python3.12/dist-packages (from requests->kagglehub) (3.10)\n",
            "Requirement already satisfied: urllib3<3,>=1.21.1 in /usr/local/lib/python3.12/dist-packages (from requests->kagglehub) (2.5.0)\n",
            "Requirement already satisfied: certifi>=2017.4.17 in /usr/local/lib/python3.12/dist-packages (from requests->kagglehub) (2025.8.3)\n"
          ]
        }
      ],
      "source": [
        "pip install kagglehub\n"
      ]
    },
    {
      "cell_type": "code",
      "execution_count": null,
      "metadata": {
        "colab": {
          "base_uri": "https://localhost:8080/"
        },
        "id": "y_6HOoLKaVDE",
        "outputId": "4e9ddb09-ba59-485c-b436-8d68256dd055"
      },
      "outputs": [
        {
          "name": "stderr",
          "output_type": "stream",
          "text": [
            "/tmp/ipython-input-3363748111.py:9: DeprecationWarning: Use dataset_load() instead of load_dataset(). load_dataset() will be removed in a future version.\n",
            "  df = kagglehub.load_dataset(\n"
          ]
        },
        {
          "name": "stdout",
          "output_type": "stream",
          "text": [
            "Using Colab cache for faster access to the 'wikipedia-movie-plots' dataset.\n",
            "First 5 records:\n",
            "   Release Year                             Title Origin/Ethnicity  \\\n",
            "0          1901            Kansas Saloon Smashers         American   \n",
            "1          1901     Love by the Light of the Moon         American   \n",
            "2          1901           The Martyred Presidents         American   \n",
            "3          1901  Terrible Teddy, the Grizzly King         American   \n",
            "4          1902            Jack and the Beanstalk         American   \n",
            "\n",
            "                             Director Cast    Genre  \\\n",
            "0                             Unknown  NaN  unknown   \n",
            "1                             Unknown  NaN  unknown   \n",
            "2                             Unknown  NaN  unknown   \n",
            "3                             Unknown  NaN  unknown   \n",
            "4  George S. Fleming, Edwin S. Porter  NaN  unknown   \n",
            "\n",
            "                                           Wiki Page  \\\n",
            "0  https://en.wikipedia.org/wiki/Kansas_Saloon_Sm...   \n",
            "1  https://en.wikipedia.org/wiki/Love_by_the_Ligh...   \n",
            "2  https://en.wikipedia.org/wiki/The_Martyred_Pre...   \n",
            "3  https://en.wikipedia.org/wiki/Terrible_Teddy,_...   \n",
            "4  https://en.wikipedia.org/wiki/Jack_and_the_Bea...   \n",
            "\n",
            "                                                Plot  \n",
            "0  A bartender is working at a saloon, serving dr...  \n",
            "1  The moon, painted with a smiling face hangs ov...  \n",
            "2  The film, just over a minute long, is composed...  \n",
            "3  Lasting just 61 seconds and consisting of two ...  \n",
            "4  The earliest known adaptation of the classic f...  \n"
          ]
        }
      ],
      "source": [
        "import kagglehub\n",
        "from kagglehub import KaggleDatasetAdapter\n",
        "import pandas as pd\n",
        "\n",
        "def load_movie_plots():\n",
        "    dataset_id = \"jrobischon/wikipedia-movie-plots\"\n",
        "    file_name = \"wiki_movie_plots_deduped.csv\"\n",
        "    try:\n",
        "        df = kagglehub.load_dataset(\n",
        "            KaggleDatasetAdapter.PANDAS,\n",
        "            dataset_id,\n",
        "            file_name,\n",
        "        )\n",
        "    except FileNotFoundError:\n",
        "        print(f\"ERROR: File `{file_name}` not found in dataset `{dataset_id}`.\")\n",
        "        return None\n",
        "    except Exception as e:\n",
        "        print(\"ERROR loading dataset:\", e)\n",
        "        return None\n",
        "\n",
        "    print(\"First 5 records:\")\n",
        "    print(df.head())\n",
        "    return df\n",
        "\n",
        "df = load_movie_plots()\n"
      ]
    },
    {
      "cell_type": "code",
      "execution_count": null,
      "metadata": {
        "colab": {
          "base_uri": "https://localhost:8080/"
        },
        "id": "IQfcafzTav1F",
        "outputId": "d713c8e7-333f-47e8-e7ba-bcb78144d69f"
      },
      "outputs": [
        {
          "name": "stdout",
          "output_type": "stream",
          "text": [
            "Dataset URL: https://www.kaggle.com/datasets/jrobischon/wikipedia-movie-plots\n",
            "License(s): CC-BY-SA-4.0\n",
            "Downloading wikipedia-movie-plots.zip to /content\n",
            "  0% 0.00/29.9M [00:00<?, ?B/s]\n",
            "100% 29.9M/29.9M [00:00<00:00, 1.42GB/s]\n"
          ]
        }
      ],
      "source": [
        "# Step 4: Download the dataset (wikipedia-movie-plots)\n",
        "!kaggle datasets download -d jrobischon/wikipedia-movie-plots\n"
      ]
    },
    {
      "cell_type": "code",
      "execution_count": null,
      "metadata": {
        "id": "uwpfCACIa793"
      },
      "outputs": [],
      "source": [
        "import zipfile\n",
        "local_zip='/content/wikipedia-movie-plots.zip'\n",
        "zip_ref=zipfile.ZipFile(local_zip,'r')\n",
        "zip_ref.extractall('/content')\n",
        "zip_ref.close()"
      ]
    },
    {
      "cell_type": "code",
      "execution_count": null,
      "metadata": {
        "id": "IR88UkpYtdl8"
      },
      "outputs": [],
      "source": [
        "movies = pd.read_csv('/content/wiki_movie_plots_deduped.csv')"
      ]
    },
    {
      "cell_type": "code",
      "execution_count": null,
      "metadata": {
        "colab": {
          "base_uri": "https://localhost:8080/",
          "height": 397
        },
        "id": "xGn87pOwuYuT",
        "outputId": "11761678-6904-4c3e-d335-36e41d567219"
      },
      "outputs": [
        {
          "data": {
            "application/vnd.google.colaboratory.intrinsic+json": {
              "summary": "{\n  \"name\": \"movies\",\n  \"rows\": 34886,\n  \"fields\": [\n    {\n      \"column\": \"Release Year\",\n      \"properties\": {\n        \"dtype\": \"number\",\n        \"std\": 27,\n        \"min\": 1901,\n        \"max\": 2017,\n        \"num_unique_values\": 117,\n        \"samples\": [\n          1945,\n          1905,\n          1954\n        ],\n        \"semantic_type\": \"\",\n        \"description\": \"\"\n      }\n    },\n    {\n      \"column\": \"Title\",\n      \"properties\": {\n        \"dtype\": \"string\",\n        \"num_unique_values\": 32432,\n        \"samples\": [\n          \"Mayalodu\",\n          \"Dikari\",\n          \"En Rathathin Rathame\"\n        ],\n        \"semantic_type\": \"\",\n        \"description\": \"\"\n      }\n    },\n    {\n      \"column\": \"Origin/Ethnicity\",\n      \"properties\": {\n        \"dtype\": \"category\",\n        \"num_unique_values\": 24,\n        \"samples\": [\n          \"Filipino\",\n          \"Tamil\",\n          \"American\"\n        ],\n        \"semantic_type\": \"\",\n        \"description\": \"\"\n      }\n    },\n    {\n      \"column\": \"Director\",\n      \"properties\": {\n        \"dtype\": \"category\",\n        \"num_unique_values\": 12593,\n        \"samples\": [\n          \"B. S. Narayana\",\n          \"Ravi Kinnagi\",\n          \"Steve Buscemi\"\n        ],\n        \"semantic_type\": \"\",\n        \"description\": \"\"\n      }\n    },\n    {\n      \"column\": \"Cast\",\n      \"properties\": {\n        \"dtype\": \"string\",\n        \"num_unique_values\": 32182,\n        \"samples\": [\n          \"Sivaji Ganesan, K. R. Vijaya, Sripriya\",\n          \"Corbin Bernsen, Dennis Haysbert, Scott Bakula, Bob Uecker\",\n          \"Paul Douglas, Richard Basehart\"\n        ],\n        \"semantic_type\": \"\",\n        \"description\": \"\"\n      }\n    },\n    {\n      \"column\": \"Genre\",\n      \"properties\": {\n        \"dtype\": \"category\",\n        \"num_unique_values\": 2265,\n        \"samples\": [\n          \"comedy/drama/action\",\n          \"drama / suspense / fantasy / costume\",\n          \"comedy, anthology\"\n        ],\n        \"semantic_type\": \"\",\n        \"description\": \"\"\n      }\n    },\n    {\n      \"column\": \"Wiki Page\",\n      \"properties\": {\n        \"dtype\": \"string\",\n        \"num_unique_values\": 34070,\n        \"samples\": [\n          \"https://en.wikipedia.org/wiki/Two_Thousand_and_None\",\n          \"https://en.wikipedia.org/wiki/Death_Note_2:_The_Last_Name\",\n          \"https://en.wikipedia.org/wiki/Contagion_(film)\"\n        ],\n        \"semantic_type\": \"\",\n        \"description\": \"\"\n      }\n    },\n    {\n      \"column\": \"Plot\",\n      \"properties\": {\n        \"dtype\": \"string\",\n        \"num_unique_values\": 33869,\n        \"samples\": [\n          \"In Spain 1519, two con artists, Tulio and Miguel, win a map to the legendary City of Gold, El Dorado, in a rigged dice gamble. After their con is exposed, the two evade the guards and hide aboard one of the ships to be led by Hern\\u00e1n Cort\\u00e9s for the New World. During the voyage, they are caught as stowaways and imprisoned, but break free and take a rowboat with the help of Cort\\u00e9s' horse, Altivo.\\r\\nThey reach an unknown shore at the edge of Mexico, where Miguel begins to recognize landmarks from the map, leading them to a totem marker near a waterfall that Tulio believes is a dead end. As they prepare to leave, they encounter a native woman, Chel, being chased by guards. When the guards see Tulio and Miguel riding Altivo as depicted on the totem, they escort them and Chel to a secret entrance behind the falls, into El Dorado. They are brought to the city's elders, kindhearted Chief Tannabok and wicked high priest Tzekel-Kan. The pair are mistaken for gods and given luxurious quarters, along with the charge of Chel. Chel discovers the two are conning the people but promises to remain quiet if they take her with them when they leave the city. The two are showered with gifts of gold from Tannabok, but disapprove of Tzekel-Kan attempting to sacrifice a civilian as the gods' ritual.\\r\\nTulio instructs Tannabok to build them a boat so that they can leave the city with all the gifts they have been given. During the three days this will take, Miguel explores the city, and Chel gets romantically close to Tulio. Miguel comes to appreciate the peaceful life the citizens seem to enjoy. When Tzekel-Kan sees Miguel playing a ball game with children, he insists the gods demonstrate their powers against the city's best players in the same game. Tulio and Miguel are far outmatched, but Chel is able to substitute the ball with an armadillo, allowing them to win. Miguel spares the ritual of sacrificing the losing team and chastises Tzekel-Kan, much to the crowd's approval. Tzekel-Kan notices Miguel received a small cut and realizes the two are not gods, because gods do not bleed. Tzekel-Kan conjures a giant stone jaguar to chase them through the city. Tulio and Miguel outwit the jaguar, causing it and Tzekel-Kan to fall into a giant whirlpool, thought to be the entrance to Xibalba. Tzekel-Kan then surfaces in the jungle, where he encounters Cort\\u00e9s and his men. Thinking Cort\\u00e9s is a god, he offers to lead them to El Dorado.\\r\\nWith the boat completed, Miguel says he will stay in the city. As Tulio and Chel board the boat, they see smoke on the horizon and realize Cort\\u00e9s is close. Tulio suggests using the boat to ram rock pillars under the waterfall and block the main entrance to the city. The plan succeeds with the citizens pulling over a statue in the boat's wake to give it enough speed. As the statue starts to fall too quickly, Tulio has difficulty in preparing the boat's sail. Giving up on staying in the city, Miguel and Altivo jump onto the boat to unfurl the sails, assuring the boat clears the statue in time. The group successfully crashes against the pillars, causing a cave-in but losing all their gifts in the process. They hide near the totem, just as Cort\\u00e9s' men and Tzekel-Kan arrive. When Tzekel-Kan finds the entrance blocked, Cort\\u00e9s brands him a liar, and takes Tzekel-Kan prisoner as they leave.\\r\\nTulio and Miguel, though disappointed they lost the gold (unaware that Altivo still wears the golden horseshoes with which he was outfitted in El Dorado), head in a different direction for a new adventure with Chel.\",\n          \"First Lieutenant Shunichi Maki of the Japan Air Self-Defense Force is a prestigious F-15 Eagle jet pilot. A lifelong fan of flying since he was a child, being a pilot is his ultimate dream. Unfortunately, his duties distance himself from his wife, Yoko, who feels neglected, and his son, Tsugumu, who has a possibly terminal congenital blood disease.\\r\\nMaki decides to quit the Air Force to devote more time to his family and to spend whatever time is left with his son. He takes a part-time job as a commercial tour guide for a kindly group of people who allow him time to take care of his family.\\r\\nPrior to quitting, Maki and his flight partner Yamashima are alerted to a strange red light streaking towards Japan, and Maki's plane passes through the red light seemingly without any damage. He suffers no ill effects other than strange images briefly playing out in his mind. He later discovers that the images are telepathic messages from a strange being that exists in the red light.\",\n          \"Sergeant Deadhead is a bumbling soldier who is sent to the guardhouse for blowing up a model rocket on the parade ground of the air base where he is stationed. His fianc\\u00e9e, Airman Lucy Turner despairs of ever marrying him because of him being constantly disciplined for his antics. She is worried that she will have to marry him while he is in the guardhouse.\\r\\nTogether with Private McEvoy, Sergeant Deadhead escapes from the guardhouse. Private McEvoy decides to break back in, but Sergeant Deadhead hides in a nearby space rocket, not knowing it is set to blast off with a chimpanzee aboard. He falls asleep in the rocket's control room and is accidentally blasted into space, together with the chimpanzee.\\r\\nWhen Sergeant Deadhead is discovered to be aboard the rocket, General Fogg decides to spin the facts and say that Sergeant Deadhead volunteered for the mission. He and Navy Captain Weiskopf also decide that Sergeant Deadhead and Airman Turner will have a well publicized wedding on the air base when Sergeant Deadhead returns to earth.\\r\\nWhen Sergeant Deadhead returns home he is a national hero but has also developed a massive ego due to space travel causing his personality to blend with that of the chimpanzee, and the realization that he has become a media sensation.\\r\\nA soldier who looks exactly like him, Sergeant Donovan, is found to take his place. When the smooth talking Sergeant Donovan is set to take Sergeant Deadhead's place at the altar, Sergeant Deadhead breaks out of the guardhouse, starts to recover his personality, and switches places with Sergeant Donovan. When the leadership realizes he has escaped the guardhouse, he runs away.\\r\\nSergeant Deadhead finds out about Sergeant Donovan, and goes to the hotel where the wedding reception and honeymoon are taking place. There he switches places with Sergeant Donovan to enjoy his honeymoon. However, General Fogg and the others find Donovan and take him back to the honeymoon suite, looking for Deadhead. Thinking Donovan is Deadhead, Airman Turner chases them out.\\r\\nWhen Airman Turner is preparing a bath for Donovan, Deadhead sneaks in the window and coldcocks Donovan with a vase, knocking him out. Fogg, Weiskopf and the others show up again at the door, claiming to have a message from the President. Thinking that Deadhead is Donovan, Fogg and Weiskopf have two MP's escort Deadhead and Turner to the airport to fly to see the President. Donovan awakes alone in the closet, then goes back to base where Fogg and Weiskopf discover that Deadhead is with Turner and going to meet the President. Deadhead and Turner enjoy the rest of their honeymoon and their meeting with the President.\\r\\nTwo marines appear to arrest Deadhead but mistakenly arrest the President, who is trying on Deadhead's space helmet. Deadhead and Turner escape in a White House helicopter. Fogg, Weiskopf and the others end up in the guardhouse.\"\n        ],\n        \"semantic_type\": \"\",\n        \"description\": \"\"\n      }\n    }\n  ]\n}",
              "type": "dataframe",
              "variable_name": "movies"
            },
            "text/html": [
              "\n",
              "  <div id=\"df-be610b87-8601-414a-857a-b19fd4ffeee2\" class=\"colab-df-container\">\n",
              "    <div>\n",
              "<style scoped>\n",
              "    .dataframe tbody tr th:only-of-type {\n",
              "        vertical-align: middle;\n",
              "    }\n",
              "\n",
              "    .dataframe tbody tr th {\n",
              "        vertical-align: top;\n",
              "    }\n",
              "\n",
              "    .dataframe thead th {\n",
              "        text-align: right;\n",
              "    }\n",
              "</style>\n",
              "<table border=\"1\" class=\"dataframe\">\n",
              "  <thead>\n",
              "    <tr style=\"text-align: right;\">\n",
              "      <th></th>\n",
              "      <th>Release Year</th>\n",
              "      <th>Title</th>\n",
              "      <th>Origin/Ethnicity</th>\n",
              "      <th>Director</th>\n",
              "      <th>Cast</th>\n",
              "      <th>Genre</th>\n",
              "      <th>Wiki Page</th>\n",
              "      <th>Plot</th>\n",
              "    </tr>\n",
              "  </thead>\n",
              "  <tbody>\n",
              "    <tr>\n",
              "      <th>0</th>\n",
              "      <td>1901</td>\n",
              "      <td>Kansas Saloon Smashers</td>\n",
              "      <td>American</td>\n",
              "      <td>Unknown</td>\n",
              "      <td>NaN</td>\n",
              "      <td>unknown</td>\n",
              "      <td>https://en.wikipedia.org/wiki/Kansas_Saloon_Sm...</td>\n",
              "      <td>A bartender is working at a saloon, serving dr...</td>\n",
              "    </tr>\n",
              "    <tr>\n",
              "      <th>1</th>\n",
              "      <td>1901</td>\n",
              "      <td>Love by the Light of the Moon</td>\n",
              "      <td>American</td>\n",
              "      <td>Unknown</td>\n",
              "      <td>NaN</td>\n",
              "      <td>unknown</td>\n",
              "      <td>https://en.wikipedia.org/wiki/Love_by_the_Ligh...</td>\n",
              "      <td>The moon, painted with a smiling face hangs ov...</td>\n",
              "    </tr>\n",
              "    <tr>\n",
              "      <th>2</th>\n",
              "      <td>1901</td>\n",
              "      <td>The Martyred Presidents</td>\n",
              "      <td>American</td>\n",
              "      <td>Unknown</td>\n",
              "      <td>NaN</td>\n",
              "      <td>unknown</td>\n",
              "      <td>https://en.wikipedia.org/wiki/The_Martyred_Pre...</td>\n",
              "      <td>The film, just over a minute long, is composed...</td>\n",
              "    </tr>\n",
              "    <tr>\n",
              "      <th>3</th>\n",
              "      <td>1901</td>\n",
              "      <td>Terrible Teddy, the Grizzly King</td>\n",
              "      <td>American</td>\n",
              "      <td>Unknown</td>\n",
              "      <td>NaN</td>\n",
              "      <td>unknown</td>\n",
              "      <td>https://en.wikipedia.org/wiki/Terrible_Teddy,_...</td>\n",
              "      <td>Lasting just 61 seconds and consisting of two ...</td>\n",
              "    </tr>\n",
              "    <tr>\n",
              "      <th>4</th>\n",
              "      <td>1902</td>\n",
              "      <td>Jack and the Beanstalk</td>\n",
              "      <td>American</td>\n",
              "      <td>George S. Fleming, Edwin S. Porter</td>\n",
              "      <td>NaN</td>\n",
              "      <td>unknown</td>\n",
              "      <td>https://en.wikipedia.org/wiki/Jack_and_the_Bea...</td>\n",
              "      <td>The earliest known adaptation of the classic f...</td>\n",
              "    </tr>\n",
              "  </tbody>\n",
              "</table>\n",
              "</div>\n",
              "    <div class=\"colab-df-buttons\">\n",
              "\n",
              "  <div class=\"colab-df-container\">\n",
              "    <button class=\"colab-df-convert\" onclick=\"convertToInteractive('df-be610b87-8601-414a-857a-b19fd4ffeee2')\"\n",
              "            title=\"Convert this dataframe to an interactive table.\"\n",
              "            style=\"display:none;\">\n",
              "\n",
              "  <svg xmlns=\"http://www.w3.org/2000/svg\" height=\"24px\" viewBox=\"0 -960 960 960\">\n",
              "    <path d=\"M120-120v-720h720v720H120Zm60-500h600v-160H180v160Zm220 220h160v-160H400v160Zm0 220h160v-160H400v160ZM180-400h160v-160H180v160Zm440 0h160v-160H620v160ZM180-180h160v-160H180v160Zm440 0h160v-160H620v160Z\"/>\n",
              "  </svg>\n",
              "    </button>\n",
              "\n",
              "  <style>\n",
              "    .colab-df-container {\n",
              "      display:flex;\n",
              "      gap: 12px;\n",
              "    }\n",
              "\n",
              "    .colab-df-convert {\n",
              "      background-color: #E8F0FE;\n",
              "      border: none;\n",
              "      border-radius: 50%;\n",
              "      cursor: pointer;\n",
              "      display: none;\n",
              "      fill: #1967D2;\n",
              "      height: 32px;\n",
              "      padding: 0 0 0 0;\n",
              "      width: 32px;\n",
              "    }\n",
              "\n",
              "    .colab-df-convert:hover {\n",
              "      background-color: #E2EBFA;\n",
              "      box-shadow: 0px 1px 2px rgba(60, 64, 67, 0.3), 0px 1px 3px 1px rgba(60, 64, 67, 0.15);\n",
              "      fill: #174EA6;\n",
              "    }\n",
              "\n",
              "    .colab-df-buttons div {\n",
              "      margin-bottom: 4px;\n",
              "    }\n",
              "\n",
              "    [theme=dark] .colab-df-convert {\n",
              "      background-color: #3B4455;\n",
              "      fill: #D2E3FC;\n",
              "    }\n",
              "\n",
              "    [theme=dark] .colab-df-convert:hover {\n",
              "      background-color: #434B5C;\n",
              "      box-shadow: 0px 1px 3px 1px rgba(0, 0, 0, 0.15);\n",
              "      filter: drop-shadow(0px 1px 2px rgba(0, 0, 0, 0.3));\n",
              "      fill: #FFFFFF;\n",
              "    }\n",
              "  </style>\n",
              "\n",
              "    <script>\n",
              "      const buttonEl =\n",
              "        document.querySelector('#df-be610b87-8601-414a-857a-b19fd4ffeee2 button.colab-df-convert');\n",
              "      buttonEl.style.display =\n",
              "        google.colab.kernel.accessAllowed ? 'block' : 'none';\n",
              "\n",
              "      async function convertToInteractive(key) {\n",
              "        const element = document.querySelector('#df-be610b87-8601-414a-857a-b19fd4ffeee2');\n",
              "        const dataTable =\n",
              "          await google.colab.kernel.invokeFunction('convertToInteractive',\n",
              "                                                    [key], {});\n",
              "        if (!dataTable) return;\n",
              "\n",
              "        const docLinkHtml = 'Like what you see? Visit the ' +\n",
              "          '<a target=\"_blank\" href=https://colab.research.google.com/notebooks/data_table.ipynb>data table notebook</a>'\n",
              "          + ' to learn more about interactive tables.';\n",
              "        element.innerHTML = '';\n",
              "        dataTable['output_type'] = 'display_data';\n",
              "        await google.colab.output.renderOutput(dataTable, element);\n",
              "        const docLink = document.createElement('div');\n",
              "        docLink.innerHTML = docLinkHtml;\n",
              "        element.appendChild(docLink);\n",
              "      }\n",
              "    </script>\n",
              "  </div>\n",
              "\n",
              "\n",
              "    <div id=\"df-2066cc46-0968-44c8-8f73-81b9f1ca8be1\">\n",
              "      <button class=\"colab-df-quickchart\" onclick=\"quickchart('df-2066cc46-0968-44c8-8f73-81b9f1ca8be1')\"\n",
              "                title=\"Suggest charts\"\n",
              "                style=\"display:none;\">\n",
              "\n",
              "<svg xmlns=\"http://www.w3.org/2000/svg\" height=\"24px\"viewBox=\"0 0 24 24\"\n",
              "     width=\"24px\">\n",
              "    <g>\n",
              "        <path d=\"M19 3H5c-1.1 0-2 .9-2 2v14c0 1.1.9 2 2 2h14c1.1 0 2-.9 2-2V5c0-1.1-.9-2-2-2zM9 17H7v-7h2v7zm4 0h-2V7h2v10zm4 0h-2v-4h2v4z\"/>\n",
              "    </g>\n",
              "</svg>\n",
              "      </button>\n",
              "\n",
              "<style>\n",
              "  .colab-df-quickchart {\n",
              "      --bg-color: #E8F0FE;\n",
              "      --fill-color: #1967D2;\n",
              "      --hover-bg-color: #E2EBFA;\n",
              "      --hover-fill-color: #174EA6;\n",
              "      --disabled-fill-color: #AAA;\n",
              "      --disabled-bg-color: #DDD;\n",
              "  }\n",
              "\n",
              "  [theme=dark] .colab-df-quickchart {\n",
              "      --bg-color: #3B4455;\n",
              "      --fill-color: #D2E3FC;\n",
              "      --hover-bg-color: #434B5C;\n",
              "      --hover-fill-color: #FFFFFF;\n",
              "      --disabled-bg-color: #3B4455;\n",
              "      --disabled-fill-color: #666;\n",
              "  }\n",
              "\n",
              "  .colab-df-quickchart {\n",
              "    background-color: var(--bg-color);\n",
              "    border: none;\n",
              "    border-radius: 50%;\n",
              "    cursor: pointer;\n",
              "    display: none;\n",
              "    fill: var(--fill-color);\n",
              "    height: 32px;\n",
              "    padding: 0;\n",
              "    width: 32px;\n",
              "  }\n",
              "\n",
              "  .colab-df-quickchart:hover {\n",
              "    background-color: var(--hover-bg-color);\n",
              "    box-shadow: 0 1px 2px rgba(60, 64, 67, 0.3), 0 1px 3px 1px rgba(60, 64, 67, 0.15);\n",
              "    fill: var(--button-hover-fill-color);\n",
              "  }\n",
              "\n",
              "  .colab-df-quickchart-complete:disabled,\n",
              "  .colab-df-quickchart-complete:disabled:hover {\n",
              "    background-color: var(--disabled-bg-color);\n",
              "    fill: var(--disabled-fill-color);\n",
              "    box-shadow: none;\n",
              "  }\n",
              "\n",
              "  .colab-df-spinner {\n",
              "    border: 2px solid var(--fill-color);\n",
              "    border-color: transparent;\n",
              "    border-bottom-color: var(--fill-color);\n",
              "    animation:\n",
              "      spin 1s steps(1) infinite;\n",
              "  }\n",
              "\n",
              "  @keyframes spin {\n",
              "    0% {\n",
              "      border-color: transparent;\n",
              "      border-bottom-color: var(--fill-color);\n",
              "      border-left-color: var(--fill-color);\n",
              "    }\n",
              "    20% {\n",
              "      border-color: transparent;\n",
              "      border-left-color: var(--fill-color);\n",
              "      border-top-color: var(--fill-color);\n",
              "    }\n",
              "    30% {\n",
              "      border-color: transparent;\n",
              "      border-left-color: var(--fill-color);\n",
              "      border-top-color: var(--fill-color);\n",
              "      border-right-color: var(--fill-color);\n",
              "    }\n",
              "    40% {\n",
              "      border-color: transparent;\n",
              "      border-right-color: var(--fill-color);\n",
              "      border-top-color: var(--fill-color);\n",
              "    }\n",
              "    60% {\n",
              "      border-color: transparent;\n",
              "      border-right-color: var(--fill-color);\n",
              "    }\n",
              "    80% {\n",
              "      border-color: transparent;\n",
              "      border-right-color: var(--fill-color);\n",
              "      border-bottom-color: var(--fill-color);\n",
              "    }\n",
              "    90% {\n",
              "      border-color: transparent;\n",
              "      border-bottom-color: var(--fill-color);\n",
              "    }\n",
              "  }\n",
              "</style>\n",
              "\n",
              "      <script>\n",
              "        async function quickchart(key) {\n",
              "          const quickchartButtonEl =\n",
              "            document.querySelector('#' + key + ' button');\n",
              "          quickchartButtonEl.disabled = true;  // To prevent multiple clicks.\n",
              "          quickchartButtonEl.classList.add('colab-df-spinner');\n",
              "          try {\n",
              "            const charts = await google.colab.kernel.invokeFunction(\n",
              "                'suggestCharts', [key], {});\n",
              "          } catch (error) {\n",
              "            console.error('Error during call to suggestCharts:', error);\n",
              "          }\n",
              "          quickchartButtonEl.classList.remove('colab-df-spinner');\n",
              "          quickchartButtonEl.classList.add('colab-df-quickchart-complete');\n",
              "        }\n",
              "        (() => {\n",
              "          let quickchartButtonEl =\n",
              "            document.querySelector('#df-2066cc46-0968-44c8-8f73-81b9f1ca8be1 button');\n",
              "          quickchartButtonEl.style.display =\n",
              "            google.colab.kernel.accessAllowed ? 'block' : 'none';\n",
              "        })();\n",
              "      </script>\n",
              "    </div>\n",
              "\n",
              "    </div>\n",
              "  </div>\n"
            ],
            "text/plain": [
              "   Release Year                             Title Origin/Ethnicity  \\\n",
              "0          1901            Kansas Saloon Smashers         American   \n",
              "1          1901     Love by the Light of the Moon         American   \n",
              "2          1901           The Martyred Presidents         American   \n",
              "3          1901  Terrible Teddy, the Grizzly King         American   \n",
              "4          1902            Jack and the Beanstalk         American   \n",
              "\n",
              "                             Director Cast    Genre  \\\n",
              "0                             Unknown  NaN  unknown   \n",
              "1                             Unknown  NaN  unknown   \n",
              "2                             Unknown  NaN  unknown   \n",
              "3                             Unknown  NaN  unknown   \n",
              "4  George S. Fleming, Edwin S. Porter  NaN  unknown   \n",
              "\n",
              "                                           Wiki Page  \\\n",
              "0  https://en.wikipedia.org/wiki/Kansas_Saloon_Sm...   \n",
              "1  https://en.wikipedia.org/wiki/Love_by_the_Ligh...   \n",
              "2  https://en.wikipedia.org/wiki/The_Martyred_Pre...   \n",
              "3  https://en.wikipedia.org/wiki/Terrible_Teddy,_...   \n",
              "4  https://en.wikipedia.org/wiki/Jack_and_the_Bea...   \n",
              "\n",
              "                                                Plot  \n",
              "0  A bartender is working at a saloon, serving dr...  \n",
              "1  The moon, painted with a smiling face hangs ov...  \n",
              "2  The film, just over a minute long, is composed...  \n",
              "3  Lasting just 61 seconds and consisting of two ...  \n",
              "4  The earliest known adaptation of the classic f...  "
            ]
          },
          "execution_count": 22,
          "metadata": {},
          "output_type": "execute_result"
        }
      ],
      "source": [
        "movies.head()"
      ]
    },
    {
      "cell_type": "code",
      "execution_count": null,
      "metadata": {
        "colab": {
          "base_uri": "https://localhost:8080/"
        },
        "id": "AMBDo7vfutdu",
        "outputId": "589486f0-7c84-47b7-8a62-c122d050790c"
      },
      "outputs": [
        {
          "name": "stdout",
          "output_type": "stream",
          "text": [
            "34886\n"
          ]
        }
      ],
      "source": [
        "print(movies.shape[0])"
      ]
    },
    {
      "cell_type": "code",
      "execution_count": null,
      "metadata": {
        "colab": {
          "base_uri": "https://localhost:8080/"
        },
        "id": "Ka5vaS4SvGJ2",
        "outputId": "917b05c0-df63-46ec-da18-22c6a3847895"
      },
      "outputs": [
        {
          "name": "stdout",
          "output_type": "stream",
          "text": [
            "28064\n"
          ]
        }
      ],
      "source": [
        "movies = movies[movies['Genre'] != 'unknown']\n",
        "movies.dropna(inplace=True)\n",
        "print(movies.shape[0])"
      ]
    },
    {
      "cell_type": "code",
      "execution_count": null,
      "metadata": {
        "id": "CR4k42livZFk"
      },
      "outputs": [],
      "source": [
        "import re\n",
        "def clean_text(text):\n",
        "  #remove backslash-apostrophe\n",
        "  text = re.sub(\"\\'\", \"\", text)\n",
        "  #remove everything alphabets\n",
        "  text = re.sub(\"[^a-zA-Z]\",\"\", text)\n",
        "  #remove whitespaces\n",
        "  text = ' '.join(text.split())\n",
        "  #covert text to lowercase\n",
        "  text = text.lower()\n",
        "  return text"
      ]
    },
    {
      "cell_type": "code",
      "execution_count": null,
      "metadata": {
        "id": "i2o0BYQRxgsL"
      },
      "outputs": [],
      "source": [
        "#cleaning movie plot"
      ]
    },
    {
      "cell_type": "code",
      "execution_count": null,
      "metadata": {
        "id": "-hSktyFFw3fB"
      },
      "outputs": [],
      "source": [
        "movies['clean_plot'] = movies['Plot'].apply(lambda x: clean_text(x))"
      ]
    },
    {
      "cell_type": "code",
      "execution_count": null,
      "metadata": {
        "colab": {
          "base_uri": "https://localhost:8080/"
        },
        "id": "tjpOYambw4-V",
        "outputId": "6b60f317-0251-428e-fd0c-d30edb2ee0b0"
      },
      "outputs": [
        {
          "name": "stderr",
          "output_type": "stream",
          "text": [
            "[nltk_data] Downloading package stopwords to /root/nltk_data...\n",
            "[nltk_data]   Unzipping corpora/stopwords.zip.\n"
          ]
        },
        {
          "data": {
            "text/plain": [
              "True"
            ]
          },
          "execution_count": 29,
          "metadata": {},
          "output_type": "execute_result"
        }
      ],
      "source": [
        "import nltk\n",
        "nltk.download('stopwords')"
      ]
    },
    {
      "cell_type": "code",
      "execution_count": null,
      "metadata": {
        "id": "n0NuuX3tx-7M"
      },
      "outputs": [],
      "source": [
        "from nltk.corpus import stopwords\n",
        "stop_words = set(stopwords.words('english'))\n",
        "# function to remove stopwords\n",
        "def remove_stopwords (text):\n",
        "  no_stopword_text = [w for w in text.split() if not w in stop_words]\n",
        "  return ' '.join(no_stopword_text)\n",
        "movies['clean_plot'] = movies['clean_plot'].apply(lambda x: remove_stopwords(x))"
      ]
    },
    {
      "cell_type": "code",
      "execution_count": null,
      "metadata": {
        "id": "DkcQp3qczWkE"
      },
      "outputs": [],
      "source": [
        "movies['Genre'] = movies['Genre'].str.replace('/','')\n",
        "movies['Genre'] = movies['Genre'].str.replace(r'\\bfilm\\b','',regex=True)\n",
        "movies['Genre'] = movies['Genre'].str.replace(',','')\n",
        "#strip leading and trailing whitespace\n",
        "movies['Genre'] = movies['Genre'].str.strip()"
      ]
    },
    {
      "cell_type": "code",
      "execution_count": null,
      "metadata": {
        "colab": {
          "base_uri": "https://localhost:8080/",
          "height": 397
        },
        "id": "lgJdgEmaz755",
        "outputId": "a1d8d1ae-36a7-49cb-ff92-2cd9c21db281"
      },
      "outputs": [
        {
          "data": {
            "text/html": [
              "<div>\n",
              "<style scoped>\n",
              "    .dataframe tbody tr th:only-of-type {\n",
              "        vertical-align: middle;\n",
              "    }\n",
              "\n",
              "    .dataframe tbody tr th {\n",
              "        vertical-align: top;\n",
              "    }\n",
              "\n",
              "    .dataframe thead th {\n",
              "        text-align: right;\n",
              "    }\n",
              "</style>\n",
              "<table border=\"1\" class=\"dataframe\">\n",
              "  <thead>\n",
              "    <tr style=\"text-align: right;\">\n",
              "      <th></th>\n",
              "      <th>Genre</th>\n",
              "    </tr>\n",
              "  </thead>\n",
              "  <tbody>\n",
              "    <tr>\n",
              "      <th>566</th>\n",
              "      <td>drama</td>\n",
              "    </tr>\n",
              "    <tr>\n",
              "      <th>567</th>\n",
              "      <td>western</td>\n",
              "    </tr>\n",
              "    <tr>\n",
              "      <th>568</th>\n",
              "      <td>western</td>\n",
              "    </tr>\n",
              "    <tr>\n",
              "      <th>569</th>\n",
              "      <td>crime</td>\n",
              "    </tr>\n",
              "    <tr>\n",
              "      <th>570</th>\n",
              "      <td>fantasy</td>\n",
              "    </tr>\n",
              "    <tr>\n",
              "      <th>571</th>\n",
              "      <td>horror</td>\n",
              "    </tr>\n",
              "    <tr>\n",
              "      <th>572</th>\n",
              "      <td>adventure</td>\n",
              "    </tr>\n",
              "    <tr>\n",
              "      <th>573</th>\n",
              "      <td>romantic drama</td>\n",
              "    </tr>\n",
              "    <tr>\n",
              "      <th>574</th>\n",
              "      <td>mystery thriller</td>\n",
              "    </tr>\n",
              "    <tr>\n",
              "      <th>575</th>\n",
              "      <td>comedy</td>\n",
              "    </tr>\n",
              "  </tbody>\n",
              "</table>\n",
              "</div><br><label><b>dtype:</b> object</label>"
            ],
            "text/plain": [
              "566               drama\n",
              "567             western\n",
              "568             western\n",
              "569               crime\n",
              "570             fantasy\n",
              "571              horror\n",
              "572           adventure\n",
              "573      romantic drama\n",
              "574    mystery thriller\n",
              "575              comedy\n",
              "Name: Genre, dtype: object"
            ]
          },
          "execution_count": 33,
          "metadata": {},
          "output_type": "execute_result"
        }
      ],
      "source": [
        "movies['Genre'][500:510]"
      ]
    },
    {
      "cell_type": "code",
      "execution_count": null,
      "metadata": {
        "colab": {
          "base_uri": "https://localhost:8080/"
        },
        "id": "Y8gMYX510F3K",
        "outputId": "bac440a5-6d30-43e0-d497-e31a520e6a6e"
      },
      "outputs": [
        {
          "name": "stdout",
          "output_type": "stream",
          "text": [
            "28046\n"
          ]
        }
      ],
      "source": [
        "movies = movies[movies['Genre'].str.len()>0]\n",
        "print(movies.shape[0])"
      ]
    },
    {
      "cell_type": "code",
      "execution_count": null,
      "metadata": {
        "id": "EJfkOFsA04fQ"
      },
      "outputs": [],
      "source": [
        "def split_genre(genre_str):\n",
        "    return genre_str.split()[:2]\n",
        "#Apply the function to create a new colum with lists\n",
        "movies['Genre_list'] = movies['Genre'].apply(split_genre)"
      ]
    },
    {
      "cell_type": "code",
      "execution_count": null,
      "metadata": {
        "colab": {
          "base_uri": "https://localhost:8080/"
        },
        "id": "rUOMblF_1z7M",
        "outputId": "b0a18b95-bb51-4cb1-9180-30737620095a"
      },
      "outputs": [
        {
          "name": "stdout",
          "output_type": "stream",
          "text": [
            "There are 26387 rows in the deduplicated dataset.\n",
            "670\n"
          ]
        }
      ],
      "source": [
        "movies = movies[~movies[\"Title\"].duplicated()]\n",
        "print(f\"There are {len(movies)} rows in the deduplicated dataset.\")\n",
        "#Dere are some terms with occurrence as low as 1.\n",
        "print(sum(movies[\"Genre_list\"].value_counts() == 1))"
      ]
    },
    {
      "cell_type": "code",
      "execution_count": null,
      "metadata": {
        "id": "bOOcM2_63kbg"
      },
      "outputs": [],
      "source": [
        "#Droping singular classes\n",
        "class_counts = movies['Genre_list'].value_counts()\n",
        "#Identify classes with only one entity\n",
        "classes_to_drop = class_counts[class_counts == 1].index"
      ]
    },
    {
      "cell_type": "code",
      "execution_count": null,
      "metadata": {
        "colab": {
          "base_uri": "https://localhost:8080/"
        },
        "id": "-iHcMAPt4Sj5",
        "outputId": "465a09be-338d-46d9-ff7f-bd0acfdd065a"
      },
      "outputs": [
        {
          "name": "stdout",
          "output_type": "stream",
          "text": [
            "670\n",
            "Index([                     ['[144]'],                      ['[140]'],\n",
            "                ['drama', 'animated'],                ['action', '('],\n",
            "                ['gangster-thriller'],              ['action—masala'],\n",
            "                     ['action-drama'],       ['gangster', 'thriller'],\n",
            "                          ['perodic'],       ['mystery', 'adventure'],\n",
            "              ['romanctic', 'comedy'],              ['comedyfamilya'],\n",
            "       ['crime', 'politicalthriller'],            ['superherocomedy'],\n",
            "            ['romanceactioncultural'],    ['romantic', 'comedydrama'],\n",
            "                ['fantasy', 'family'],    ['critically', 'acclaimed'],\n",
            "                            ['heist'],           ['comedy', 'masala'],\n",
            "               ['sci-fi', 'romantic'],                        ['mob']],\n",
            "      dtype='object', name='Genre_list')\n"
          ]
        }
      ],
      "source": [
        "print(len(classes_to_drop))\n",
        "print(classes_to_drop[540:562])"
      ]
    },
    {
      "cell_type": "code",
      "execution_count": null,
      "metadata": {
        "id": "UjU_qGGW45Fw"
      },
      "outputs": [],
      "source": [
        "filtered_movies = movies[-movies['Genre_list'].isin(classes_to_drop)]"
      ]
    },
    {
      "cell_type": "code",
      "execution_count": null,
      "metadata": {
        "colab": {
          "base_uri": "https://localhost:8080/"
        },
        "id": "Te943idT5Hmg",
        "outputId": "1665498c-6f82-4c20-a543-1bcaedab6c7d"
      },
      "outputs": [
        {
          "data": {
            "text/plain": [
              "25717"
            ]
          },
          "execution_count": 48,
          "metadata": {},
          "output_type": "execute_result"
        }
      ],
      "source": [
        "filtered_movies.shape[0]"
      ]
    },
    {
      "cell_type": "code",
      "execution_count": null,
      "metadata": {
        "id": "oLJoSito5NGv"
      },
      "outputs": [],
      "source": [
        "test_split = 0.1"
      ]
    },
    {
      "cell_type": "code",
      "execution_count": null,
      "metadata": {
        "colab": {
          "base_uri": "https://localhost:8080/"
        },
        "id": "HUBr-MNi5TkX",
        "outputId": "16a949e1-9333-4cc6-83b5-313bd3d72169"
      },
      "outputs": [
        {
          "name": "stdout",
          "output_type": "stream",
          "text": [
            "Number of rows in training set: {len[train_df]}\n",
            "Number of rows in validation set: {len[val_df]}\n",
            "Number of rows in test set: {len[test_df]}\n"
          ]
        }
      ],
      "source": [
        "from sklearn.model_selection import train_test_split\n",
        "\n",
        "#initial train and test plit.\n",
        "\n",
        "train_df, test_df = train_test_split(\n",
        "    filtered_movies,\n",
        "    test_size=test_split,\n",
        "    stratify=filtered_movies[\"Genre_list\"].values,\n",
        ")\n",
        "#splitting the test set further into validation and new test sets.\n",
        "val_df = test_df.sample(frac=0.5)\n",
        "test_df.drop(val_df.index, inplace=True)\n",
        "print(\"Number of rows in training set: {len[train_df]}\")\n",
        "print(\"Number of rows in validation set: {len[val_df]}\")\n",
        "print(\"Number of rows in test set: {len[test_df]}\")"
      ]
    },
    {
      "cell_type": "code",
      "execution_count": null,
      "metadata": {
        "colab": {
          "base_uri": "https://localhost:8080/"
        },
        "id": "dAAQK8pR61DY",
        "outputId": "9185f507-379d-4637-9c99-9cf3c47d5246"
      },
      "outputs": [
        {
          "name": "stdout",
          "output_type": "stream",
          "text": [
            "Vocabulary:\n",
            "\n",
            "['[UNK]', np.str_('drama'), np.str_('comedy'), np.str_('action'), np.str_('romance'), np.str_('thriller'), np.str_('crime'), np.str_('horror'), np.str_('western'), np.str_('musical'), np.str_('adventure'), np.str_('romantic'), np.str_('war'), np.str_('family'), np.str_('science'), np.str_('fiction'), np.str_('mystery'), np.str_('fantasy'), np.str_('noir'), np.str_('sci-fi'), np.str_('biography'), np.str_('animation'), np.str_('animated'), np.str_('social'), np.str_('historical'), np.str_('comedy-drama'), np.str_('short'), np.str_('suspense'), np.str_('world'), np.str_('sports'), np.str_('serial'), np.str_('martial'), np.str_('spy'), np.str_('biopic'), np.str_('superhero'), np.str_('documentary'), np.str_('arts'), np.str_('comedydrama'), np.str_('black'), np.str_('anime'), np.str_('political'), np.str_('romancecomedy'), np.str_('romancedrama'), np.str_('melodrama'), np.str_('psychological'), np.str_('mockumentary'), np.str_('biographical'), np.str_('masala'), np.str_('dramedy'), np.str_('tokusatsu'), np.str_('epic'), np.str_('costume'), np.str_('mythology'), np.str_('disaster'), np.str_('satire'), np.str_('spyaction'), np.str_('kung'), np.str_('slasher'), np.str_('supernatural'), np.str_('folklore'), np.str_('period'), np.str_('parody'), np.str_('dark'), np.str_('adult'), np.str_('teen'), np.str_('slapstick'), np.str_('crimedrama'), np.str_('subject'), np.str_('sex'), np.str_('science-fiction'), np.str_('rom'), np.str_('fu'), np.str_('feature'), np.str_('erotic'), np.str_('devotional'), np.str_('comedycrime'), np.str_('com'), np.str_('actiondrama'), np.str_('action-adventure'), np.str_('literary'), np.str_('docudrama'), np.str_('crimethriller'), np.str_(\"children's\"), np.str_('bio-pic'), np.str_('anthology'), np.str_('actionthriller'), np.str_('actionromance'), np.str_('dramacomedy'), np.str_('comedyromance'), np.str_('children'), np.str_('-'), np.str_('swashbuckler'), np.str_('screwball'), np.str_('romantic-comedy'), np.str_('dance'), np.str_('actioncomedy'), np.str_('romancethriller'), np.str_('history'), np.str_('exploitation'), np.str_('comedyaction'), np.str_('sexploitation'), np.str_('samurai'), np.str_('musicalcomedy'), np.str_('gangster'), np.str_('detective'), np.str_('biblical'), np.str_('action-masala'), np.str_('wuxia'), np.str_('socio-fantasy'), np.str_('ero'), np.str_('dramathriller'), np.str_('comedyhorror'), np.str_('christian'), np.str_('biker'), np.str_('based'), np.str_('action-comedy'), np.str_('spythriller'), np.str_('road'), np.str_('religious'), np.str_('music'), np.str_('love'), np.str_('kaiju'), np.str_('horrorcomedy'), np.str_('historicaldrama'), np.str_('dramamusical'), np.str_('comedymusical'), np.str_('zombie'), np.str_('yakuza'), np.str_('wardrama'), np.str_('thrillerdrama'), np.str_('romanceaction'), np.str_('rom-com'), np.str_('prison'), np.str_('operetta'), np.str_('national'), np.str_('espionage'), np.str_('dramatic'), np.str_('dramabiographical'), np.str_('dramaaction'), np.str_('coming-of-age'), np.str_('board'), np.str_('avant-garde'), np.str_('african'), np.str_('&'), np.str_('youth'), np.str_('true'), np.str_('sword'), np.str_('sportscomedy'), np.str_('shakespearean'), np.str_('satirical'), np.str_('roman'), np.str_('propaganda'), np.str_('porno'), np.str_('pink'), np.str_('neo-noir'), np.str_('musicalromance'), np.str_('musicaldrama'), np.str_('live-action'), np.str_('historicalaction'), np.str_('experimental'), np.str_('dramaromance'), np.str_('dramahistory'), np.str_('drama-thriller'), np.str_('crimeromance'), np.str_('cop'), np.str_('comedythriller'), np.str_('comedysatire'), np.str_('comedy-thriller'), np.str_('buddy'), np.str_('actionromancecomedy'), np.str_('actionadventure'), np.str_('action-thriller'), np.str_('yash'), np.str_('warromance'), np.str_('warner'), np.str_('warhistorical'), np.str_('tv'), np.str_('tragedy'), np.str_('thrillerhorror'), np.str_('suspensethriller'), np.str_('supernaturalactionanime'), np.str_('super'), np.str_('stop-motion'), np.str_('spycomedy'), np.str_('sport'), np.str_('socialdrama'), np.str_('slice'), np.str_('sci-ficomedy'), np.str_('romanticcomedy'), np.str_('romancemusical'), np.str_('remake'), np.str_('raj'), np.str_('race'), np.str_('post-apocalyptic'), np.str_('portmanteau'), np.str_('politics'), np.str_('police'), np.str_('piece'), np.str_('p.o.w.'), np.str_('of'), np.str_('nature'), np.str_('mythological'), np.str_('mysterythriller'), np.str_('murder'), np.str_('miniseries'), np.str_('medical'), np.str_('mecha'), np.str_('live-actionanimated'), np.str_('legal'), np.str_('kung-fu'), np.str_('jidaigeki'), np.str_('in'), np.str_('imdb'), np.str_('hit'), np.str_('historic'), np.str_('gun'), np.str_('futuristic'), np.str_('found'), np.str_('footage'), np.str_('famil'), np.str_('eiga'), np.str_('drama[not'), np.str_('direct-to-dvd'), np.str_('crimeaction'), np.str_('coming'), np.str_('comedywestern'), np.str_('comedy-horror'), np.str_('charlie'), np.str_('chan'), np.str_('chambara'), np.str_('bros.'), np.str_('boxing'), np.str_('blaxploitation'), np.str_('biographicalhistorical'), np.str_('biodrama'), np.str_('australian'), np.str_('art'), np.str_('animatedadventure'), np.str_('adultthriller'), np.str_('adultcomedy'), np.str_('adapted'), np.str_('actioncrime'), np.str_('(shogi')]\n"
          ]
        }
      ],
      "source": [
        "import tensorflow as tf\n",
        "genres = tf.ragged.constant(train_df[\"Genre_list\"].values)\n",
        "lookup = tf.keras.layers.StringLookup(output_mode=\"multi_hot\")\n",
        "lookup.adapt (genres)\n",
        "vocab = lookup.get_vocabulary()\n",
        "def invert_multi_hot(encoded_labels):\n",
        "  \"\"\"Reverse a single multi-bot encoded label to a tuple of vocab terms.\"\"\"\n",
        "  hot_indices = np.argwhere(encoded_labels == 1.0)[..., 0]\n",
        "  return np.take(vocab, hot_indices)\n",
        "print(\"Vocabulary:\\n\")\n",
        "print(vocab)"
      ]
    },
    {
      "cell_type": "code",
      "execution_count": null,
      "metadata": {
        "colab": {
          "base_uri": "https://localhost:8080/"
        },
        "id": "3ajtBZ1W8Zdj",
        "outputId": "628a502d-7372-4ae9-a5e5-58ac97fd30fb"
      },
      "outputs": [
        {
          "name": "stdout",
          "output_type": "stream",
          "text": [
            "original label: ['comedy', 'drama']\n",
            "label-binarized representation: [[0 1 1 0 0 0 0 0 0 0 0 0 0 0 0 0 0 0 0 0 0 0 0 0 0 0 0 0 0 0 0 0 0 0 0 0\n",
            "  0 0 0 0 0 0 0 0 0 0 0 0 0 0 0 0 0 0 0 0 0 0 0 0 0 0 0 0 0 0 0 0 0 0 0 0\n",
            "  0 0 0 0 0 0 0 0 0 0 0 0 0 0 0 0 0 0 0 0 0 0 0 0 0 0 0 0 0 0 0 0 0 0 0 0\n",
            "  0 0 0 0 0 0 0 0 0 0 0 0 0 0 0 0 0 0 0 0 0 0 0 0 0 0 0 0 0 0 0 0 0 0 0 0\n",
            "  0 0 0 0 0 0 0 0 0 0 0 0 0 0 0 0 0 0 0 0 0 0 0 0 0 0 0 0 0 0 0 0 0 0 0 0\n",
            "  0 0 0 0 0 0 0 0 0 0 0 0 0 0 0 0 0 0 0 0 0 0 0 0 0 0 0 0 0 0 0 0 0 0 0 0\n",
            "  0 0 0 0 0 0 0 0 0 0 0 0 0 0 0 0 0 0 0 0 0 0 0 0 0 0 0]]\n"
          ]
        }
      ],
      "source": [
        "sample_label = train_df[\"Genre_list\"].iloc[3]\n",
        "print(f\"original label: {sample_label}\")\n",
        "label_binarized = lookup([sample_label])\n",
        "print(f\"label-binarized representation: {label_binarized}\")"
      ]
    },
    {
      "cell_type": "code",
      "execution_count": null,
      "metadata": {
        "colab": {
          "base_uri": "https://localhost:8080/",
          "height": 335
        },
        "id": "ibYnAgA2-D1B",
        "outputId": "7908ff44-cde2-4bac-e7f8-55e274ad8e31"
      },
      "outputs": [
        {
          "data": {
            "text/html": [
              "<div>\n",
              "<style scoped>\n",
              "    .dataframe tbody tr th:only-of-type {\n",
              "        vertical-align: middle;\n",
              "    }\n",
              "\n",
              "    .dataframe tbody tr th {\n",
              "        vertical-align: top;\n",
              "    }\n",
              "\n",
              "    .dataframe thead th {\n",
              "        text-align: right;\n",
              "    }\n",
              "</style>\n",
              "<table border=\"1\" class=\"dataframe\">\n",
              "  <thead>\n",
              "    <tr style=\"text-align: right;\">\n",
              "      <th></th>\n",
              "      <th>clean_plot</th>\n",
              "    </tr>\n",
              "  </thead>\n",
              "  <tbody>\n",
              "    <tr>\n",
              "      <th>count</th>\n",
              "      <td>23145.0</td>\n",
              "    </tr>\n",
              "    <tr>\n",
              "      <th>mean</th>\n",
              "      <td>1.0</td>\n",
              "    </tr>\n",
              "    <tr>\n",
              "      <th>std</th>\n",
              "      <td>0.0</td>\n",
              "    </tr>\n",
              "    <tr>\n",
              "      <th>min</th>\n",
              "      <td>1.0</td>\n",
              "    </tr>\n",
              "    <tr>\n",
              "      <th>25%</th>\n",
              "      <td>1.0</td>\n",
              "    </tr>\n",
              "    <tr>\n",
              "      <th>50%</th>\n",
              "      <td>1.0</td>\n",
              "    </tr>\n",
              "    <tr>\n",
              "      <th>75%</th>\n",
              "      <td>1.0</td>\n",
              "    </tr>\n",
              "    <tr>\n",
              "      <th>max</th>\n",
              "      <td>1.0</td>\n",
              "    </tr>\n",
              "  </tbody>\n",
              "</table>\n",
              "</div><br><label><b>dtype:</b> float64</label>"
            ],
            "text/plain": [
              "count    23145.0\n",
              "mean         1.0\n",
              "std          0.0\n",
              "min          1.0\n",
              "25%          1.0\n",
              "50%          1.0\n",
              "75%          1.0\n",
              "max          1.0\n",
              "Name: clean_plot, dtype: float64"
            ]
          },
          "execution_count": 60,
          "metadata": {},
          "output_type": "execute_result"
        }
      ],
      "source": [
        "train_df[\"clean_plot\"].apply(lambda x: len(x.split(\" \"))).describe()"
      ]
    },
    {
      "cell_type": "code",
      "execution_count": null,
      "metadata": {
        "id": "acFo9rBs-d8Y"
      },
      "outputs": [],
      "source": [
        "max_seqlen = 300\n",
        "batch_size = 128\n",
        "padding_token = \"<pad>\"\n",
        "auto = tf.data.AUTOTUNE\n",
        "def make_dataset(dataframe, is_train=True):\n",
        "  labels = tf.ragged.constant(dataframe[\"Genre_list\"].values)\n",
        "  label_binarized = lookup(labels).numpy()\n",
        "  dataset = tf.data.Dataset.from_tensor_slices(\n",
        "      (dataframe[\"clean_plot\"].values, label_binarized)\n",
        "  )\n",
        "  dataset = dataset.shuffle(batch_size * 10) if is_train else dataset\n",
        "  return dataset.batch(batch_size)"
      ]
    },
    {
      "cell_type": "code",
      "execution_count": null,
      "metadata": {
        "id": "wGluOWUpAN-f"
      },
      "outputs": [],
      "source": [
        "train_dataset = make_dataset(train_df, is_train=True)\n",
        "validation_dataset = make_dataset(val_df, is_train=False)\n",
        "test_dataset = make_dataset(test_df, is_train=False)"
      ]
    },
    {
      "cell_type": "code",
      "execution_count": null,
      "metadata": {
        "colab": {
          "base_uri": "https://localhost:8080/"
        },
        "id": "ysRPAruvApCQ",
        "outputId": "a2c61196-9908-4222-ffdb-1373c184728f"
      },
      "outputs": [
        {
          "name": "stdout",
          "output_type": "stream",
          "text": [
            "Abstract: b'ayoungcouplezachandsamanthamccallareabouttogetmarriedwhenzachdecideshewantstodocumenttheirlifetogethersincesamwasraisedinfosterhomesanddoesntknowmuchaboutherhistoryorrootsaftertheirweddingtheygotothedominicanrepublicfortheirhoneymoonduringcarnivalthecouplemeetafortunetellerdemarisgordonwhodeclaressamwasbornfromdeathandrepeatstosamthattheyhavebeenwaitingforhercreepedoutthecouplequicklyleaveontheirwayoutastrangemanwatchesthemtheygetlostonthewayhomeandacabdriverrogerpayanoofferstotakethemtoalocalclubtherearenumerousstrangesymbolsmarkingtheareaontheirwaythereattheclubthesamemanfromthefortunetellerswatchesthemandspeakswiththecabdriverunawaretheyarebeingtrappedthecoupleisdruggedandtakentoanundergroundchamberbeneaththenightclubwherearitualisperformedandanunseenforcefillstheroomthenextmorningzachandsamwakeintheirhotelwithnomemoryofthepreviousnightacoupleofweeksafterthehoneymoonsamdiscoverssheispregnantdespiteclaimingtohavetakenbirthcontrolpillsreligiouslyeversincetheweddingthoughshockedzachandsamanthaareoverjoyedandtelltheirfamilyandfriendsthenewsthecouplelaterattendtheirfirstultrasoundscanwherethedoctorsaysthatthebabylookshealthyandsamisduebytheendofmarchatthatmomenttheultrasoundscreengoesstaticbutrecoversafteramomentthroughoutthecourseofherpregnancysambeginstoexperiencenosebleedsstomachbruisingcravingsforrawmeatdespitebeingavegetariansuperhumanstrengthtelekineticabilitiesandunexplainedfeelingsofragewheneversheorthebabyappeartobethreatenedalsozachandsamkeepseeingoddlookingpeoplewatchingthemfromafarsambecomesconvincedsomethingisseriouslywrongwiththebabyandthattheyarebeingwatchedafterasecondvisittothedoctoranewdoctorrobertaberdeenappearsandperformsanamnioaftersamappearsnauseoushehasnoanswerastothewhereaboutsoftheiroriginaldoctorandthecoupleissuspiciousbeforethecouplereturnhomemaskedmensetuphiddencamerasinsidetheirhometomonitorherprogressandmakesureshedoesnothurtthebabywhensamiseightmonthspregnantthecoupleattendaholycommunionattheirchurchtheirusuallyfriendlyniecemadisonwolfeisoddlyscaredofsamnowandthepriestsamandersonwhoofficiatedzachandsamsweddinglooksatsamduringtheserviceandviolentlycoughsupbloodlaterathomewhenzachisreviewingthecommunionfootagehefilmedheseesthemysteriouscabdriverfromtheirhoneymoonsittinginapewhevisitsthepriestinthehospitalwhoexplainsthesymbolisrelatedtosummoningtheantichristandwarnszachthatthesymbolisthegatewayfortheantichristandthatthefollowersofthecultwilldressthehouseinashtoprepareforthearrivalafterhefindsashalloverhishouseandthecopswillnotdoanythingzachchasesthepeoplewatchingtheirhouseandfindsoutwheretheyarelivingheaskshissistersuzietostaywithsamwhilehebreaksintothesupposedlyabandonedhouseattheendofhisstreetwherethecultisstayingandtherehefindsthecctvfootageofhishouseandthemissingultrasoundheisalmostcaughtbythecultwhenhegoestoleaveperformingtheritualwiththeothercultmembersisthemccallsmysteriousseconddoctoraswellasthemanwhohasbeenwatchingtheirhouseandthecultleaderwhotheyinitiallysawatthefortunetellersplaceandlaterattheclubzachbarelymanagestoescapehehastoavoidthecabdriveronhiswayoutmeanwhilesuziegoestochecksamonlytofindthatshedrawingthecultsymbolbeforebeingattackedbyunseenforceuponreturninghomezachfindsthehousesurroundedbythemaskedmenwhohavebeenwatchingthemallalonginsidehefindssuziedeadandhearssamscreamasthehouseisbeingdestroyedbysomeunseenforcehefindssaminthebabysnurserystandinginatrancelikestatewithaknifetoherstomachtheknifewasamysteriousgiftatherbabyshowersheisstandingatopthecultsymbolthatshehascarvedintothefloorsecretlyzachscreamsforhertostopbutshepressestheknifetoherstomachanywayandthereisaviolentblastoflightwhenzachrecovershefindssamlyinginherownbloodwithherstomachcutsamcriesandwondersifthebabyisallrightbeforedyingonhisarmszachbreaksdowningriefbeforethecabdriverandtheseconddoctorarrivezachbegstheintruderstoleavethemalonebutthedoctortakesthebabyregardlessthebabyglowsadeepredashetakesitfromsamsbodytheculttakeshiscameraandtapesremovingallevidencezachisarrestedandinterrogatedbythepoliceaboutthedeathofhiswifeandsisteranddisappearanceofhischildcrimesforwhichhelooksguiltybeforethecreditsthescreenshowsanotheryoungcoupleontheirhoneymooninpariswherethesamecabdriveroffersthemalifthintingthestorybeginstorepeatalloveragain'\n",
            "Label(s): ['horror']\n",
            " \n",
            "Abstract: b'intheearlyshenrydetambleisinacaraccidentthatkillshismotherbutwhichhesurvivesbyinadvertentlytimetravelingbacktwoweeksmomentslaterhenryishelpedbyanolderversionofhimselfwhohasalsotraveledbackunabletocontrolthetimingordestinationsofhistravelinghenryfindshimselfdrawntosignificantpeopleplacesandeventsinhislifebutisincapableofchangingeventsbeyondtheminordifferenceshispresencecreatesinhenrymeetsclareabshireinthelibrarywhereheworkssheisoverjoyedtoseehimalthoughheisactuallymeetingherforthefirsttimeclareexplainsthatshemethenrysfutureselfwhenshewasachildandthatheinformedherthenthattheywouldmeetinthefuturewhichishappeningatthemomentsincechildhoodhenryhasbeenclaresbestfriendandhasvisitedherasachildclaredevelopsacrushonhenryandsheisupsettolearnthatheismarriedwhenclareturnstwoyearsbeforetheirmeetingatthelibrarytheolderhenrykissesherleadinghertorealizethatheisherhusbandinthefuturetheybeginarelationshipwhichischallengedbyhenrysdisorderhissporadictimetravelingisfurthercomplicatedbythefactthathearrivesathisdestinationscompletelynakedfromanearlyagehehadlearnedhowtopicklocksandtostealclothingtoendurehistravelsamonghisgetawaysaremanyvisitstoyoungclarefrompresentdayclaresdiaryhegetsalistofdateswhenhevisitedherandgivesthosetoyoungclaresothatshecanbewaitingforhimwithclothesfallinginlovehenryandclareeventuallymarrythoughheactuallytimetravelsawaybeforetheceremonyandavisiblyolderversionofhimselfarrivesintimetostepinslightlyconfusingtheguestshenrysdisappearancesallowhimtowinthelotterybyhavingthenumbersinadvancebuthisdisordertakesatollonhisrelationshipwithclareitalsomakeshavingachildwithclareseeminglyimpossibleashenrysgenescausetheirunbornfetusestotimetraveltheyseekarenowneddoctorshelpbutafternumeroussimilarmiscarriageshenryhasasecretvasectomytoendtheirsufferinghoweversoonafterclaregetspregnantonelasttimebyavisitingyoungerversionofhenryandcarriesthebabytofulltermbeforethechildisbornhenrytravelsforwardintimeandhappilymeetstheirpreteendaughteralbashetellshimthatsheisatimetravelertoobuthasincreasingcontroloverwhenandwhereshetravelsalbatellshenrythathewilldiewhensheisfiveyearsoldafactthathenrysubsequentlyhidesfromclarealbaspreteenselfwhoultimatelytriestoprepareheryoungerselfforhenrysdeathvisitsyoungalbasporadicallyclareisdevastatedtodiscoverhenrysimpendingdeathlaterhenrytimetravelsandisaccidentallyshotbyclaresfatherwhoishuntingelkhenryreturnsintimetodieinclaresarmssomeyearslaterayoungerhenryvisitsalbaandclaregivingclarehopethathewillvisitagainthoughhetellshernottospendherlifewaitingforhimhopingthisencounterwouldprovideaproperclosureforbothclareandalba'\n",
            "Label(s): ['drama' 'romantic']\n",
            " \n",
            "Abstract: b'troyswifejuliesolennheusaffwaslockedatastoresdressingroomanddiedaftersaraherichgonzaleskilledhertroyjcdeverasuddenlywakesupafterabaddreamaboutthedeathofhiswifeitssandrasthbirthdayandthereisacelebrationofalegriamallsthanniversaryclarificationneededandiggymodajohnlapusjustgotwordthatthestoryaboutsarahbeingasnakeisnottruejuliewasanastypersonwhotriedtostealclothesjuliethenstartedcomplainingaboutwhythecashierlinewastoolongthesalesladymosanggotangryathersoshelockedherinthedressingroomwhenshelookedatthemirrorshebecamesuspiciouswhenshegotoutsideitwassarahsroomjuliegoesbackinsidethedressingroomandwhenshelookedatthemirrortheglasseswerethrownathershewastheneatenbysarahsarahisobsessedwithtroysomeonetriedtopossessherbodysayingthatsheisnotasnakeandtroywillneverfallinlovewithherjakejasonfranciscoaskedmangbanjolouvelosoifheisdrunkjakesaidthatheisondutyandsaidthatnextweektheywillhangoutandtheywillhavelotsofgirlsthenmangbanjostepsintotheelevatorwiththekeytosarahsroomtroyreturnshomeandgetsaknifeusingittokillsarahalbertoarielriveragoestosarahalongwithsandraandmangbanjobutsarahkillsalbertotroyarrivesandhurtssarahthesnakeandiggymodafightuntilhewasthrownintoaglasspanethensarahbeginfindingthemaftersarahreuniteswithsandratroyattacksbutsarahknockshimdownsaraheatstroybuttroysucceedsinkillingherintheprocessleavingsandraheartbrokenandguiltyinthissegmentofthehorroranthologyafamilyisbeingfedbytheirmaidwithdeliciousdisheswithunusualingredientsthatsoonturnthemintohorriblemonstersandtheyendupkillingeachotherthisepisodestarscarlaabellanaanddennistrilloduringafinancialcrisismanilaairlaysoffsomeemployeesaspartofacostcuttingstrategyoneoftheseemployeesisbaggagehandlingsupervisorcarlosbernardpalancasometimelateramanilaairflighttravelingthemanilazamboangavvroutewiththeflightnumberboardspassengersamongthepassengersarecelebrityvloggerandtelevisionshowhosttimkimatienzagaybusinessmaniggytwomembersofafamousbanddoingagigintheprovinceandtheirfansandamotherandherdaughterjanealsoontheflightaresocialiteconniejoyviadoandamarriedcoupleallofwhoareseatedatthefirstclasscabinaftertheplanetakesoffandreachesitscruisingaltitudecarlosinstigateshijackstheplanedemandingtheairlinetowiremoneytoanaccounttoformcompensationforemployeeswhowerelaidoffduringacostcuttingconnieoverhearsthechaosandhidesinoneofthelavatoriesonlytofindthecoupledoingamilehighclubwhomsheurgestocalmdownandstoptheiractsoutoffeatofbeingkilledsuddenlyjanegivesbirthtoatiyanakamonstrouscreaturefromphilippinemythologythatsoonattackstherestofthepeopleinsidetheaircraftonebyoneflightattendantkarenlovipoewhohasarelationshipwithdavematteoguidicellitogetherwiththehelpofanotherflightattendantbryandanielmatsunagaandtimmustworktogethertosavethemfromdisasterthetiyanakkillsthehijackerastimandbryanflytheplaneafterlosingthepilotsaftertheflightlandseveryoneescapesasthebombplantedbythehijackerexplodeskillingthetiyanakasthesurvivorsrecuperatewhileauthoritiesinterviewthemthefatherofthetiyanakvengefullyappearswatchinginthedistanceafterthecreditsoneofthepassengersiggyisshowntohavesurvivedtheexplosion'\n",
            "Label(s): ['horror' 'suspense']\n",
            " \n",
            "Abstract: b'nickfreemanisanaspiringmotorcycleracerbutafternicksbrotherdiesbeforeheisabletotestandracethenewexperimentalmotorcyclehesdevelopednickinheritstheresponsibilitytoprovehisbrothersdesigninspiteofaseriesoftoughsetbacksincludingthelossofhisgirlfriendnickgoesintothebigraceatthebritishgrandprixwithallhisenergyandconcentrationbentonwinningbutunderhandedamericanracerbeaubridgesisalsoamongthecompetitorsandheisdeterminedtoruinnickschancesnumerousincidentshappenbeforenickcrossesthefinishlineinfirstplace'\n",
            "Label(s): ['sports']\n",
            " \n",
            "Abstract: b'apsychicresearcherquintussendsthemindofaprostitutedianabackintimetolearnaboutherpastlifeexperiencesinthemiddleagesshesharesthebodyofherpastselfhelenewhoistodieatdawnundersuspicionofbeingawitchatdianasurgingheleneescapesprisonearningtheattentionofliviathewitchforwhosecrimeshelenehasbeenblamedandofsatanhimselfviathepsychiclinkbetweendianaandhelenequintusphysicallygoesbackintimetoconvincehelenetoavoidherdeathsohecanwitnesstheresultsofhistorychanginghoweverifheleneevadesexecutionherfutureselvesincludingdianawillnevercomeintoexistencesosheacceptsherfateddeathwhenhelenediesherlinkwithdianadisappearsleavingquintusphysicallystrandedinthepastmuchtosatansamusement'\n",
            "Label(s): ['horror']\n",
            " \n"
          ]
        }
      ],
      "source": [
        "import numpy as np\n",
        "\n",
        "text_batch, label_batch = next(iter(train_dataset))\n",
        "for i, text in enumerate(text_batch[:5]):\n",
        "  label = label_batch[i].numpy()[None, ...]\n",
        "  print(f\"Abstract: {text}\")\n",
        "  print(f\"Label(s): {invert_multi_hot(label[0])}\")\n",
        "  print(\" \")"
      ]
    },
    {
      "cell_type": "code",
      "execution_count": null,
      "metadata": {
        "colab": {
          "base_uri": "https://localhost:8080/"
        },
        "id": "-XEjgVvwCL_E",
        "outputId": "82a2c833-4fc6-4f34-c09a-e08c19001ee5"
      },
      "outputs": [
        {
          "name": "stdout",
          "output_type": "stream",
          "text": [
            "23024\n"
          ]
        }
      ],
      "source": [
        "vocabulary=set()\n",
        "train_df[\"clean_plot\"].str.lower().str.split().apply(vocabulary.update)\n",
        "vocabulary_size = len(vocabulary)\n",
        "print(vocabulary_size)"
      ]
    },
    {
      "cell_type": "code",
      "execution_count": null,
      "metadata": {
        "id": "mVM1GvrnC1mV"
      },
      "outputs": [],
      "source": [
        "from tensorflow.keras import layers\n",
        "from tensorflow import keras\n",
        "import tensorflow as tf\n",
        "\n",
        "text_vectorizer = layers.TextVectorization(\n",
        "    max_tokens=vocabulary_size, output_mode=\"tf_idf\"\n",
        ")\n",
        "with tf.device(\"/CPU:0\"):\n",
        "  text_vectorizer.adapt(train_dataset.map(lambda text, label: text))\n",
        "train_dataset = train_dataset.map(\n",
        "    lambda text, label: (text_vectorizer(text), label), num_parallel_calls=auto\n",
        ").prefetch(auto)\n",
        "validation_dataset = validation_dataset.map(\n",
        "    lambda text, label: (text_vectorizer(text), label), num_parallel_calls=auto\n",
        ").prefetch(auto)\n",
        "test_dataset = test_dataset.map(\n",
        "    lambda text, label: (text_vectorizer(text), label), num_parallel_calls=auto\n",
        ").prefetch(auto)"
      ]
    },
    {
      "cell_type": "code",
      "execution_count": null,
      "metadata": {
        "id": "TWBBBiY7FgfH"
      },
      "outputs": [],
      "source": [
        "def make_model():\n",
        "  shallow_mlp_model = keras.Sequential(\n",
        "     [\n",
        "      layers.Dense (512, activation=\"relu\"),\n",
        "      layers.Dense(256, activation=\"relu\"),\n",
        "      layers.Dense(lookup.vocabulary_size(), activation=\"sigmoid\"),\n",
        "    ]\n",
        "    )\n",
        "  return shallow_mlp_model"
      ]
    },
    {
      "cell_type": "code",
      "execution_count": null,
      "metadata": {
        "colab": {
          "base_uri": "https://localhost:8080/"
        },
        "id": "q99axm0ViBhk",
        "outputId": "74cde871-e892-41b2-c2ab-75532a16da65"
      },
      "outputs": [
        {
          "name": "stdout",
          "output_type": "stream",
          "text": [
            "Epoch 1/5\n",
            "\u001b[1m181/181\u001b[0m \u001b[32m━━━━━━━━━━━━━━━━━━━━\u001b[0m\u001b[37m\u001b[0m \u001b[1m68s\u001b[0m 363ms/step - binary_accuracy: 0.9554 - loss: 0.2070 - val_binary_accuracy: 0.9950 - val_loss: 0.0193\n",
            "Epoch 2/5\n",
            "\u001b[1m181/181\u001b[0m \u001b[32m━━━━━━━━━━━━━━━━━━━━\u001b[0m\u001b[37m\u001b[0m \u001b[1m79s\u001b[0m 350ms/step - binary_accuracy: 0.9951 - loss: 0.0200 - val_binary_accuracy: 0.9914 - val_loss: 0.0233\n",
            "Epoch 3/5\n",
            "\u001b[1m181/181\u001b[0m \u001b[32m━━━━━━━━━━━━━━━━━━━━\u001b[0m\u001b[37m\u001b[0m \u001b[1m78s\u001b[0m 327ms/step - binary_accuracy: 0.9967 - loss: 0.0170 - val_binary_accuracy: 0.9914 - val_loss: 0.0414\n",
            "Epoch 4/5\n",
            "\u001b[1m181/181\u001b[0m \u001b[32m━━━━━━━━━━━━━━━━━━━━\u001b[0m\u001b[37m\u001b[0m \u001b[1m62s\u001b[0m 341ms/step - binary_accuracy: 0.9982 - loss: 0.0086 - val_binary_accuracy: 0.9914 - val_loss: 0.0566\n",
            "Epoch 5/5\n",
            "\u001b[1m181/181\u001b[0m \u001b[32m━━━━━━━━━━━━━━━━━━━━\u001b[0m\u001b[37m\u001b[0m \u001b[1m79s\u001b[0m 325ms/step - binary_accuracy: 0.9989 - loss: 0.0048 - val_binary_accuracy: 0.9914 - val_loss: 0.0717\n"
          ]
        },
        {
          "name": "stderr",
          "output_type": "stream",
          "text": [
            "WARNING:absl:You are saving your model as an HDF5 file via `model.save()` or `keras.saving.save_model(model)`. This file format is considered legacy. We recommend using instead the native Keras format, e.g. `model.save('my_model.keras')` or `keras.saving.save_model(model, 'my_model.keras')`. \n"
          ]
        },
        {
          "data": {
            "text/plain": [
              "['label_encoder.joblib']"
            ]
          },
          "execution_count": 105,
          "metadata": {},
          "output_type": "execute_result"
        }
      ],
      "source": [
        "from tensorflow import keras\n",
        "epochs = 5\n",
        "shallow_mlp_model = make_model()\n",
        "shallow_mlp_model.compile(\n",
        "    loss=\"binary_crossentropy\", optimizer=\"adam\", metrics=[\"binary_accuracy\"]\n",
        ")\n",
        "history = shallow_mlp_model.fit(\n",
        "    train_dataset, validation_data=validation_dataset, epochs=epochs\n",
        ")\n",
        "\n",
        "# Save the trained model\n",
        "shallow_mlp_model.save(\"plot_genre_model.h5\")\n",
        "\n",
        "# Save the label encoder\n",
        "import joblib\n",
        "joblib.dump(lookup, \"label_encoder.joblib\")"
      ]
    },
    {
      "cell_type": "code",
      "execution_count": null,
      "metadata": {
        "colab": {
          "base_uri": "https://localhost:8080/"
        },
        "id": "z6PiZyA2wX1Q",
        "outputId": "9127f3e6-c9f4-47b3-e06a-09d4e9039e03"
      },
      "outputs": [
        {
          "name": "stdout",
          "output_type": "stream",
          "text": [
            "Epoch 1/15\n",
            "\u001b[1m181/181\u001b[0m \u001b[32m━━━━━━━━━━━━━━━━━━━━\u001b[0m\u001b[37m\u001b[0m \u001b[1m57s\u001b[0m 301ms/step - accuracy: 0.1839 - loss: 0.2111 - val_accuracy: 0.3079 - val_loss: 0.0193\n",
            "Epoch 2/15\n",
            "\u001b[1m181/181\u001b[0m \u001b[32m━━━━━━━━━━━━━━━━━━━━\u001b[0m\u001b[37m\u001b[0m \u001b[1m54s\u001b[0m 300ms/step - accuracy: 0.3536 - loss: 0.0201 - val_accuracy: 0.0420 - val_loss: 0.0266\n",
            "Epoch 3/15\n",
            "\u001b[1m181/181\u001b[0m \u001b[32m━━━━━━━━━━━━━━━━━━━━\u001b[0m\u001b[37m\u001b[0m \u001b[1m82s\u001b[0m 301ms/step - accuracy: 0.6288 - loss: 0.0168 - val_accuracy: 0.0428 - val_loss: 0.0478\n",
            "Epoch 4/15\n",
            "\u001b[1m181/181\u001b[0m \u001b[32m━━━━━━━━━━━━━━━━━━━━\u001b[0m\u001b[37m\u001b[0m \u001b[1m82s\u001b[0m 300ms/step - accuracy: 0.8221 - loss: 0.0086 - val_accuracy: 0.0428 - val_loss: 0.0629\n",
            "Epoch 5/15\n",
            "\u001b[1m181/181\u001b[0m \u001b[32m━━━━━━━━━━━━━━━━━━━━\u001b[0m\u001b[37m\u001b[0m \u001b[1m81s\u001b[0m 295ms/step - accuracy: 0.8772 - loss: 0.0044 - val_accuracy: 0.0428 - val_loss: 0.0747\n",
            "Epoch 6/15\n",
            "\u001b[1m181/181\u001b[0m \u001b[32m━━━━━━━━━━━━━━━━━━━━\u001b[0m\u001b[37m\u001b[0m \u001b[1m84s\u001b[0m 306ms/step - accuracy: 0.8905 - loss: 0.0028 - val_accuracy: 0.0428 - val_loss: 0.0833\n",
            "Epoch 7/15\n",
            "\u001b[1m181/181\u001b[0m \u001b[32m━━━━━━━━━━━━━━━━━━━━\u001b[0m\u001b[37m\u001b[0m \u001b[1m80s\u001b[0m 293ms/step - accuracy: 0.9073 - loss: 0.0019 - val_accuracy: 0.0428 - val_loss: 0.0902\n",
            "Epoch 8/15\n",
            "\u001b[1m181/181\u001b[0m \u001b[32m━━━━━━━━━━━━━━━━━━━━\u001b[0m\u001b[37m\u001b[0m \u001b[1m83s\u001b[0m 299ms/step - accuracy: 0.9178 - loss: 0.0014 - val_accuracy: 0.0428 - val_loss: 0.0952\n",
            "Epoch 9/15\n",
            "\u001b[1m181/181\u001b[0m \u001b[32m━━━━━━━━━━━━━━━━━━━━\u001b[0m\u001b[37m\u001b[0m \u001b[1m53s\u001b[0m 294ms/step - accuracy: 0.9229 - loss: 0.0010 - val_accuracy: 0.0428 - val_loss: 0.1024\n",
            "Epoch 10/15\n",
            "\u001b[1m181/181\u001b[0m \u001b[32m━━━━━━━━━━━━━━━━━━━━\u001b[0m\u001b[37m\u001b[0m \u001b[1m85s\u001b[0m 309ms/step - accuracy: 0.9192 - loss: 7.5737e-04 - val_accuracy: 0.0435 - val_loss: 0.1052\n",
            "Epoch 11/15\n",
            "\u001b[1m181/181\u001b[0m \u001b[32m━━━━━━━━━━━━━━━━━━━━\u001b[0m\u001b[37m\u001b[0m \u001b[1m80s\u001b[0m 301ms/step - accuracy: 0.9181 - loss: 5.6314e-04 - val_accuracy: 0.0428 - val_loss: 0.1056\n",
            "Epoch 12/15\n",
            "\u001b[1m181/181\u001b[0m \u001b[32m━━━━━━━━━━━━━━━━━━━━\u001b[0m\u001b[37m\u001b[0m \u001b[1m81s\u001b[0m 296ms/step - accuracy: 0.9151 - loss: 4.0069e-04 - val_accuracy: 0.0435 - val_loss: 0.1148\n",
            "Epoch 13/15\n",
            "\u001b[1m181/181\u001b[0m \u001b[32m━━━━━━━━━━━━━━━━━━━━\u001b[0m\u001b[37m\u001b[0m \u001b[1m54s\u001b[0m 298ms/step - accuracy: 0.8985 - loss: 3.2619e-04 - val_accuracy: 0.0428 - val_loss: 0.1194\n",
            "Epoch 14/15\n",
            "\u001b[1m181/181\u001b[0m \u001b[32m━━━━━━━━━━━━━━━━━━━━\u001b[0m\u001b[37m\u001b[0m \u001b[1m85s\u001b[0m 314ms/step - accuracy: 0.9063 - loss: 2.6456e-04 - val_accuracy: 0.0428 - val_loss: 0.1230\n",
            "Epoch 15/15\n",
            "\u001b[1m181/181\u001b[0m \u001b[32m━━━━━━━━━━━━━━━━━━━━\u001b[0m\u001b[37m\u001b[0m \u001b[1m54s\u001b[0m 296ms/step - accuracy: 0.8928 - loss: 2.1413e-04 - val_accuracy: 0.0428 - val_loss: 0.1233\n"
          ]
        },
        {
          "name": "stderr",
          "output_type": "stream",
          "text": [
            "WARNING:absl:You are saving your model as an HDF5 file via `model.save()` or `keras.saving.save_model(model)`. This file format is considered legacy. We recommend using instead the native Keras format, e.g. `model.save('my_model.keras')` or `keras.saving.save_model(model, 'my_model.keras')`. \n"
          ]
        },
        {
          "data": {
            "text/plain": [
              "['label_encoder.joblib']"
            ]
          },
          "execution_count": 146,
          "metadata": {},
          "output_type": "execute_result"
        }
      ],
      "source": [
        "from tensorflow import keras\n",
        "epochs = 15\n",
        "shallow_mlp_model = make_model()\n",
        "shallow_mlp_model.compile(\n",
        "    loss=\"binary_crossentropy\", optimizer=\"adam\", metrics=[\"accuracy\"]\n",
        ")\n",
        "history = shallow_mlp_model.fit(\n",
        "    train_dataset, validation_data=validation_dataset, epochs=epochs\n",
        ")\n",
        "\n",
        "# Save the trained model\n",
        "shallow_mlp_model.save(\"plot_genre_model.h5\")\n",
        "\n",
        "# Save the label encoder\n",
        "import joblib\n",
        "joblib.dump(lookup, \"label_encoder.joblib\")"
      ]
    },
    {
      "cell_type": "code",
      "execution_count": null,
      "metadata": {
        "colab": {
          "base_uri": "https://localhost:8080/"
        },
        "id": "clN32Gzd3fQm",
        "outputId": "47aabe0f-4915-4fbe-8b9e-974ae1fbca68"
      },
      "outputs": [
        {
          "name": "stdout",
          "output_type": "stream",
          "text": [
            "Epoch 1/5\n",
            "\u001b[1m181/181\u001b[0m \u001b[32m━━━━━━━━━━━━━━━━━━━━\u001b[0m\u001b[37m\u001b[0m \u001b[1m57s\u001b[0m 298ms/step - f1_score_metric: 0.0017 - loss: 0.2170 - val_f1_score_metric: 0.0000e+00 - val_loss: 0.0192\n",
            "Epoch 2/5\n",
            "\u001b[1m181/181\u001b[0m \u001b[32m━━━━━━━━━━━━━━━━━━━━\u001b[0m\u001b[37m\u001b[0m \u001b[1m83s\u001b[0m 302ms/step - f1_score_metric: 0.0811 - loss: 0.0200 - val_f1_score_metric: 0.0512 - val_loss: 0.0241\n",
            "Epoch 3/5\n",
            "\u001b[1m181/181\u001b[0m \u001b[32m━━━━━━━━━━━━━━━━━━━━\u001b[0m\u001b[37m\u001b[0m \u001b[1m82s\u001b[0m 301ms/step - f1_score_metric: 0.5279 - loss: 0.0164 - val_f1_score_metric: 0.0518 - val_loss: 0.0419\n",
            "Epoch 4/5\n",
            "\u001b[1m181/181\u001b[0m \u001b[32m━━━━━━━━━━━━━━━━━━━━\u001b[0m\u001b[37m\u001b[0m \u001b[1m93s\u001b[0m 362ms/step - f1_score_metric: 0.7972 - loss: 0.0082 - val_f1_score_metric: 0.0524 - val_loss: 0.0553\n",
            "Epoch 5/5\n",
            "\u001b[1m181/181\u001b[0m \u001b[32m━━━━━━━━━━━━━━━━━━━━\u001b[0m\u001b[37m\u001b[0m \u001b[1m63s\u001b[0m 346ms/step - f1_score_metric: 0.8915 - loss: 0.0045 - val_f1_score_metric: 0.0536 - val_loss: 0.0690\n"
          ]
        },
        {
          "name": "stderr",
          "output_type": "stream",
          "text": [
            "WARNING:absl:You are saving your model as an HDF5 file via `model.save()` or `keras.saving.save_model(model)`. This file format is considered legacy. We recommend using instead the native Keras format, e.g. `model.save('my_model.keras')` or `keras.saving.save_model(model, 'my_model.keras')`. \n"
          ]
        },
        {
          "data": {
            "text/plain": [
              "['label_encoder.joblib']"
            ]
          },
          "execution_count": 145,
          "metadata": {},
          "output_type": "execute_result"
        }
      ],
      "source": [
        "from tensorflow import keras\n",
        "from tensorflow.keras import backend as K\n",
        "import tensorflow as tf\n",
        "\n",
        "# Define a custom F1 score metric\n",
        "def f1_score_metric(y_true, y_pred):\n",
        "    y_true = tf.cast(y_true, tf.float32) # Cast y_true to float32\n",
        "    true_positives = K.sum(K.round(K.clip(y_true * y_pred, 0, 1)))\n",
        "    possible_positives = K.sum(K.round(K.clip(y_true, 0, 1)))\n",
        "    predicted_positives = K.sum(K.round(K.clip(y_pred, 0, 1)))\n",
        "    precision = true_positives / (predicted_positives + K.epsilon())\n",
        "    recall = true_positives / (possible_positives + K.epsilon())\n",
        "    f1 = 2 * (precision * recall) / (precision + recall + K.epsilon())\n",
        "    return f1\n",
        "\n",
        "epochs = 5\n",
        "shallow_mlp_model = make_model()\n",
        "shallow_mlp_model.compile(\n",
        "    loss=\"binary_crossentropy\", optimizer=\"adam\", metrics=[f1_score_metric]\n",
        ")\n",
        "history = shallow_mlp_model.fit(\n",
        "    train_dataset, validation_data=validation_dataset, epochs=epochs\n",
        ")\n",
        "\n",
        "# Save the trained model\n",
        "shallow_mlp_model.save(\"plot_genre_model.h5\")\n",
        "\n",
        "# Save the label encoder\n",
        "import joblib\n",
        "joblib.dump(lookup, \"label_encoder.joblib\")"
      ]
    },
    {
      "cell_type": "code",
      "execution_count": null,
      "metadata": {
        "id": "3xf9mYbHjP-8"
      },
      "outputs": [],
      "source": [
        "import matplotlib.pyplot as plt\n",
        "def plot_result(item):\n",
        "  plt.plot(history.history[item], label=item)\n",
        "  plt.plot(history.history[\"val_\" + item], label=\"val_\" + item)\n",
        "  plt.xlabel(\"Epochs\")\n",
        "  plt.ylabel(item)\n",
        "  plt.title(\"Train and Validation {} over Epochs\".format(item), fontsize=14)\n",
        "  plt.legend()\n",
        "  plt.grid()\n",
        "  plt.show()"
      ]
    },
    {
      "cell_type": "code",
      "execution_count": null,
      "metadata": {
        "colab": {
          "base_uri": "https://localhost:8080/",
          "height": 929
        },
        "id": "INRP_OcnlOY3",
        "outputId": "badc85ef-7bb5-45e3-dc41-163ed6b290f4"
      },
      "outputs": [
        {
          "data": {
            "image/png": "[encoded data removed]",
            "text/plain": [
              "<Figure size 640x480 with 1 Axes>"
            ]
          },
          "metadata": {},
          "output_type": "display_data"
        },
        {
          "data": {
            "image/png": "[encoded data removed]",
            "text/plain": [
              "<Figure size 640x480 with 1 Axes>"
            ]
          },
          "metadata": {},
          "output_type": "display_data"
        }
      ],
      "source": [
        "plot_result(\"loss\")\n",
        "plot_result(\"binary_accuracy\")"
      ]
    },
    {
      "cell_type": "code",
      "execution_count": null,
      "metadata": {
        "colab": {
          "base_uri": "https://localhost:8080/"
        },
        "id": "KdKEw7TblUcN",
        "outputId": "547c7bd5-a864-4e6d-bb48-f0fcc317d2cd"
      },
      "outputs": [
        {
          "name": "stdout",
          "output_type": "stream",
          "text": [
            "\u001b[1m11/11\u001b[0m \u001b[32m━━━━━━━━━━━━━━━━━━━━\u001b[0m\u001b[37m\u001b[0m \u001b[1m1s\u001b[0m 65ms/step - binary_accuracy: 0.9912 - loss: 0.0869\n",
            "categorical accuracy on the test set: 99.12%.\n"
          ]
        }
      ],
      "source": [
        "_, binary_acc = shallow_mlp_model.evaluate(test_dataset)\n",
        "print(f\"categorical accuracy on the test set: {round(binary_acc* 100, 2)}%.\")"
      ]
    },
    {
      "cell_type": "code",
      "execution_count": null,
      "metadata": {
        "colab": {
          "base_uri": "https://localhost:8080/"
        },
        "id": "_yVGH_YAmJr6",
        "outputId": "c7685f3f-40fb-4e73-db6a-17faaca3c053"
      },
      "outputs": [
        {
          "name": "stdout",
          "output_type": "stream",
          "text": [
            "\u001b[1m4/4\u001b[0m \u001b[32m━━━━━━━━━━━━━━━━━━━━\u001b[0m\u001b[37m\u001b[0m \u001b[1m0s\u001b[0m 53ms/step\n",
            "Abstract: b'christinepainterjuliewaltersisasexuallynaivewaitressandsinglemotherwhopaysforherteenagesonstuitionbyrentingflatstolocalcallgirlsshelaterbecomesacallgirlherselfjoiningherfriendshirleyshirleystelfoxandtheirmaiddollydannyschillerandspecializesinfetishkinkroleplaywitholdergentlemenwithhernewfamilyoffriendsandadmirersshebecomesahugesensationleadingtowealthandinfamyinthetabloidsthebrothelbusinessalsobringsoutchristinesselfconfidenceandleadstorepairingapreviouslystrainedrelationshipwithherfather'\n",
            "Label(s): ['comedy']\n",
            "Predicted Label(s): romance,animated,science\n",
            " \n",
            "Abstract: b'ahugeblinkingflyingsaucerfromdeepspaceemitsaglowingobjectwhichracestoearthitinterceptsamanwhosdrivinghiscardownanisolatedroadtheobjecttakesoverthemansbodyanddirectsittolabcentralausresearchfacilitythatsbeentrackingthesaucerthinkingitwasanasteroidthemanspossessedbodyforcesitswayintothelabandtheentityinsidetakescontrolofthechiefscientistwhodirectsthreenuclearmissilestobefiredatthesaucereveryoneisshockedwhentheexplosionfailstodestroytheobjectthesaucercrashesintothepacificoceanoffthecoastofmexicoimpatientwiththedelayingettingaformalexpeditiontothecrashscenetwoofthelabsscientistsonewithhisphotographergirlfriendintowheaddowntomexicoaftertheirarrivaltheyseethesaucerappearontheoceanssurfaceterrifiedtheyfleebacktotheirlodgingfortherestofthenightthenextmorningbothscientistsandthegirlfriendseealargestoriestallmachinethathasappearedonthebeachitsfourleggedbodyfeaturestwomobileantennaethatresembletheterminalsofacapacitortheyuseasmallhelicoptertolandatopthestrangemachineglimpsingitsinnerworkingsbeforebeingforcedtoleavethehugemachineunderthedirectionofthepossessedlabscientistwhonowhaslistsofpowerstationsandatombombarsenalsaroundtheworldthelargemachinewhichhassincebeennamedkronosmethodicallyattackspowerplantsinmexicodrainingtheirenergyentirelyindoingsokronosgrowslargerwitheveryenergyabsorptionepisodeconsumingmoreandmorepowerasitmovesunhinderedfromonepowersourcetothenextfourmexicanairforcefighterplanesattackkronosbutthegrowingalienmachineeasilydestroysthemandcontinuesonitsenergydrainingrampageinalucidunpossessedmomentthescientisttellshisreturnedcolleaguesthatkronosisanenergyaccumulatorsentbyanalienracethathasexhausteditsownnaturalresourcestheyhavesenttheirgiantmachinetodrainalltheearthsavailablepowerandthenreturnittotheirdyingworldtheunitedstatesairforcesendsabbombertodropanatomicbombbutoneofthescientistswarnsthepentagonthatanatomicexplosionwillsimplysupplykronoswithmassiveamountsofenergythepentagonattemptstoabortthebombingmissionbutkronoscausesthejettocrashintoitabsorbingthebombsnuclearblastthealienmachinenowgrowntoanimmensesizeappearsunstoppableharvestingallformsofenergyatwillaskronosdrawsnearlosangelesscientistsdeviseaningeniousplanthatreversesthemonstermachinespolarityforcingittofeeduponitselfuntilbeingobliteratedbyagiganticimplosionbutthequestionremainswillmankindsufferanotheronslaughtbythedesperatealiens'\n",
            "Label(s): ['science' 'fiction']\n",
            "Predicted Label(s): romance,animated,science\n",
            " \n",
            "Abstract: b'richardkinghowlandisaswaggeringbigotedlandbaronlivingonthebigislandofhawaiiheobjectswhenhissistersloanhowlandannouncessheplanstomarrypaulkahanaanativehawaiianeventhoughrichardishavingatorridaffairwithanasianwomanmaichenduringsloanandpaulsengagementpartymaichensbrotherattacksrichardwithaknifepaultriestobreakupthefightandiskilledbitteratherbrotherforpaulsdeathsloanrunsofftohonoluluwheresheistakeninbypaulsbrotherdeanandhisfamilymeanwhilemaichengivesbirthtorichardschildbutdiesduringchildbirthevertherabidracistrichardrefusestoacceptthechildandsloantakesituponherselftocareforthebabyafteranangryfightwithsloananddeanrichardisconfrontedwithapersonaldilemmawhethertocontinueonwithhisclosemindedwaysortowelcomehisnewbornsonintohisfamilyalthoughthestoryisbasedonthenovelbypetergilmanthescreenplaybymargueriterobertsmakesseveralsignificantchangesingilmansstoryseveralcharactersareeliminatedincludingrichardsfatherrichardswifeandhishapahaolehalfhawaiianhalfwhitehalfbrotherrobertsalsochangedtheendingofthestory'\n",
            "Label(s): ['drama']\n",
            "Predicted Label(s): romance,animated,science\n",
            " \n",
            "Abstract: b'theplotisbasedonthestoryofdisciplessishyaofparamanandayyasevensaintsinnumbertheyareactuallythedisciplesofarunakeertimahamunichitralekhakrvijayadancesinthecourtoflordsivasobhanbabuhegivesherarudrakshamalatowearduringthevisitslatershevisitsthebeautifulearthwithhercompanionsandenjoysbathinginapoolshefindsthesesishiyaskeenlylookingatherandcursesthemtobecomeidiotsafterknowingthefactsfromgurujiandrealizinghermistakeshepronouncesthevimuktifreefromcurseatthetimeofhermarriagetheguruarunakeertiinreturncurseschitralekhathatshewilllosehercelestialstatusifshecomesintocontactwithahumanltwasthemostcomedyfilmatthattimeheadvisesthesishyastogotorajaguruprinciplecourtspiritualadviserparamanandayyachittoorvnagaiahatvijayadurgamruledbynandivardhanamaharajuntramaraoparamanandayyaacceptsthemashisdiscipleschitralekhaforgetstherudrakshamalawhilereturningtotheheaventhemalaisaccidentallyfoundbymaharajahwhenhecomestohuntintheforestchitralekharemembershermalaandgoestothepalaceasasnakeandtriestostealsthemalahowevermaharajahdreamingaboutthedevakanyaacelestialmaidentoucheschitralekhawholosesherdivinepowersandpastmemorymaharajahcallsparamanandayyaforadvicehetellstherajahtohandoverthemalatohermakingherregainthesequenceofeventsheadviseshertopraylordsivatoattaindivinitysoshecangobacktoheavenmeanwhilewhateverthesishiyasdooutofignoranceturnsouttobeagoodthingforparamanandayyafamilytheysavethemfromthievesetcfinallytheydecidedtodieasgurujistronglyscoldedthemforpurchasingadeadcowtheyeatvishapuundaluandgotothestreetsnightpatrollingrajabhattakesthemtotheroyalcourttheythoughtmaharajaasindraandranjanivijayalakshmiasapsaratheyreachthehouseofranjaniandmakesmaharajahknowthecriminalplansofministerthesishiyasspoiledthemarriageofdaughtergirijawiththetuberculouspatientandsaveparamanandayyafromanotherfamilycrisisoustedbygurujitheyreachrajamahalandspoilanattempttokillmaharajabyjaggarayudusatyanarayanaandministermukkamalatheyconvincedchitralekhatomarrymaharajahduringthemarriageceremonytheyarereleasedfromthecurseandregaintheirsainthood'\n",
            "Label(s): ['drama']\n",
            "Predicted Label(s): romance,animated,science\n",
            " \n",
            "Abstract: b'donaldduckisportrayedasahobowalkingalongrailroadtrackssingingshellbecomingroundthemountainhesmellstastythingsandfollowsthescenttoalogcabinwhichunfortunatelyisthehomeofpeglegpetewhilepeteistryingtoenjoylunchdonaldstealsallthefoodoffofpetestablewhichmakespeteangrypetethenhandsdonaldastickofdynamitewhichdonaldtakesthinkingitisfooditblowsuponhimpeteinafrenchcanadianaccenttellsdonaldthatifhewantsfoodhellhavetoworkasalumberjackforpetepetehandsdonaldanaxewhichissoheavyitpushesdonaldintothetrunkofatreeinanattempttogetoutofthejobdonaldbreakstheaxewithastoneandshowsittopetebutpetesimplyrespondsbyputtingthebladeonapieceofwoodandhittingitcreatinganewhandledonaldendsupswingingtheaxesoharditbreaksthebladeoffwhichgoesoverpeteandcutsoffpartofhispantsdecidingthatitistoohardtoworkwithanoldfashionedaxedonaldusesacrosscutsawwhichhefindsinatreetrunkandbeginsusingitinsteadwhenthesawgetsstuckinthethickbarkofthetreeandjamstheforcepushesdonaldbackwardsandthrowshimintopeteknockingbothtothegrounddonaldendsupinsideofpetesshirtalongwiththesawwhichapparentlyispartiallyinsidepetesbellywhendonaldpullsitoutitmakespetelaughbutoncehefullypullsitoutpetereturnstonormalpetetellsdonaldthatifhemessesupagainpetewillkillhimtopieceswhendonaldrunsawaythesawvibratesbackandforthandeventuallymakesdonaldflyoverpetewiththesawsendshittingpeteinthebottomandpushinghisheadinthegroundafterdonaldchopsoffabranchthatlandsonpetepetekickshimandthiscausesdonaldtogethisheadstuckbetweenthesawsendsasdonaldtriestofreehimselfheaccidentallychopsdownahugetreethatfallsonpetefuriouspeteroarslikealionwithangerandbeginschasingdonaldthechaseleadsdonaldandpeteontoarailroadtrackandtheybeginachaseonflatcarsafterchasingdonaldthroughatunnelpetetriestograbdonaldbythetailbumpshisrearendwithhispumpandeventuallyusesaharpoontostabdonaldhoweverheonlyendsuptakingpiecesoffofdonaldsflatcaruntilitisnothingbutwheelspetethensharpensthetipoftheharpoonandincreasesitstemperaturebylayingitonhiswheelsothatitburnsdonaldbuttheheatonlycausesdonaldtogofasterandthenbackfireswhendonaldpullsaleveratastationwhichmakescoallandonpetethisalsodismantlespetesflatcarnowonlyrunningtoescapedonaldmanagestooutrunpeteandinthenickoftimepullsaleverwhichmakesthetrackturntheotherwaycausingpetetoveeroffcourseandcrashintoarowofboxcarssatisfieddonaldsaysfarewelltopeteandwalksoffintothesunsetsingingshellbecomingroundthemountain'\n",
            "Label(s): ['animated' 'short']\n",
            "Predicted Label(s): romance,animated,science\n",
            " \n",
            "Abstract: b'twoyearsaftertombakerresignedfromhisheadcoachingpositionthebakerfamilybeginstoundergomanychangesbeginningwithlorraineandherdesiretostudyinnewyorktheiroldestdaughternoraisnowmarriedtobudmcnultyandheavilypregnantwiththeirfirstchildtheyintendtomovetohoustonbecauseofbudsnewjobpromotionfeelingthefamilyisbreakingapartasthechildrengrowupandmoveawaytompersuadestheentirefamilytotakeonelastfamilyvacationalltogetheratlakewinnetkatomsoldrivaljimmymurtaughandhislargefamilywithonlyeightkidsarealsothereforthesummerjimmyconstantlyflauntshiswealthandsuccesstotomaswellastheaccomplishmentsofhischildrenoftensuggestingtotomthatthebakerchildrenarelesssuccessfulbecauseoftomsparentingstylethebakerkidsgetintomanyincidentsseveralofwhichareaccidentalmarkbakeralongwithkennymurtaughcrashesintoatenniscourtwithagolfcartsarahbakeriscaughtshopliftinginagiftshopandmarkaccidentallysetsoffabackpackoffireworkscausingwidespreadpanicespeciallywhenthebackpackisthrownintoaboatignitingitsengineandcausingittoexplodejimmyagainstartsthetopicthattomneedstouseafirmerhandonhiskidstomisangeredbythisandtheydecidetosettlethematterattheannuallabordayfamilycuptomtrainsthekidsfordaysnotrealizingtheyaremiserablesarahandelliotmurtaughwatchiceagetogetherbutarespiedonbytheirfatherswhichultimatelyresultsinthemgettingintoanargumentandhumiliatingtheirchildrenuponreturninghomesarahisfuriousandrefusestocompeteforherfatherinthecupeveryoneincludingkateisangrywithtomnotonlyforspyingonsarahbutalsoforruiningtheentiretripthroughhiscompetitivenesswiththemurtaughsthenextmorningtomgoestothecuptocompetewithnigelandkyletheonlytwostillwillingtogohoweverafterdiscoveringanoldteambakerflagkateandtherestofthefamilyshowupshowingtheyforgivetomandarewillingtocompeteaftertheeventshoweverthebakersandthemurtaughsaretiedforfirstatiebreakingcanoeraceisannouncedinwhicheveryfamilymembermustcompeteduringtheracenoraswaterbreaksthemurtaughswanttohelpbutjimmysensingtheopportunitytodefeattomonceandforallinitiallyrefusestohelpeventuallythemurtaughsconvincejimmythattheyshouldhelpthebakersandthebakersandthemurtaughsworktogethertogetnoratothehospitalasshegoesintolaborbudlorraineandkategowithnorainthedeliveryroomwhiletomjimmysarinaandtherestofthekidsstayinthewaitingroomwhiletalkingtojimmytomrealizesthathehastolethiskidsgrowbutwherevertheygotheywillalwaysbewithhimandhewillalwaysbewiththemnorathengivesbirthtoababyboywhosheandbudnametominhonorofherfatherwhohasshownthemthereisnowaytobeaperfectparentbutamillionwaystobeareallygoodonebudannouncesthattheyhaveboughtthebighousethevacationhomethatthebakershavebeenrentingnorabudandbabytomleaveforhoustonafewdayslaterwhilethebakerscontinuetheirvacationatlakewinnetka'\n",
            "Label(s): ['comedy']\n",
            "Predicted Label(s): romance,animated,science\n",
            " \n",
            "Abstract: b'rachelschpitendavelbritteklandaninnocentamishgirlfromruralpennsylvaniaarrivesinnewyorkslowereastsidehopingtomakeitasadancerrachelsdancesarebasedonbiblestoriessheauditionsatminskysburlesquebutherdancesaremuchtoodullandchasteforthebawdyshowbutthenbillyminskyelliottgouldandtheshowsjadedstraightmanraymondpainejasonrobardsconcoctaplantofoilmoralcrusadervancefowlerdenholmelliottwhoisintentonshuttingdownthetheaterminskypublicizesrachelasthenotoriousmadamoisellefifiperformingthedancethatdroveamillionfrenchmenwildthiswillinvitearaidbyfowlerandthepolicebutbillywillletrachelperformherinnocuousbibledancesthushumiliatingfowlerduringtherunuptohermidnightperformanceraymondandhispartnerchicknormanwisdomshowracheltheropesofburlesqueandtheybothfallforherintheprocessmeanwhilerachelssternfatherharryandrewswhoevenobjectstoherbibledancesarrivesinsearchofhisdaughterthefilmclimaxeswhenracheltakesthestageafterherfatherhascalledherawhoreandsherealizesthattheminskysarejustusingherherfathertriestodragheroffstagebutshepullsawayandaccidentallytearsaslitinherdressthesoldoutcrowdspursheronandrachelbeginstoenjoyherpowerovertheaudienceandstartstostripshelooksintothewingsandseesraymondwhosensesaraidandperhapstheendofaneraleavingthetheaterforgoodrachelcallsandthrowsoutherarmstohiminadvertentlydroppingthefrontofherdressandbaringherbreastsfowlerblowshiswhistleandthepolicerushthestageandclosedowntheshowamadcapmeleefollowsintheendmostofthecastmembersareloadedintoapaddywagonincludingrachelsbewilderedfather'\n",
            "Label(s): ['comedy']\n",
            "Predicted Label(s): romance,animated,science\n",
            " \n",
            "Abstract: b'reubenfefferbenstillerariskanalystforlifeinsuranceiscelebratinghishoneymoonwithnewlywedwifelisakramerdebramessingontheislandofstbartsbutcatchesherhavingsexwithclaudehankazariaafrenchscubainstructorreturninghometonewyorkaloneheattemptstopiecehislifebacktogetherreubengoestoanartgallerywithhisfriendsandylylephilipseymourhoffmanwhereherunsintoformerjuniorhighschoolclassmatepollyprincejenniferanistonreubenandpollybegindatingwithherintroducinghimtoactivitiesheoncewroteoffastooriskythisincludedeatingatamoroccanrestaurantwhichendsbadlyduetoreubensibsirritablebowelsyndromeluckilypollygiveshimasecondchancewheretheyendupsalsadancingandlaterenthusiasticallyhavingsextogetherwithreubenshoutingasheorgasmsthecontrastbetweentheirtwopersonalitiesisasourceofcomedythroughoutthefilmuntillisareturnsandtellshimshewantstoreconciletheirrelationshipmeanwhilesandyaselfcenteredformerteenidolistryingtomakeacomebackbyhavingadocumentaryfilmedabouthisstarringroleasjudasinanamateurproductionofjesuschristsuperstarreubenistornbetweenthefreespiritedpollyandthesafeandfamiliarlisatosolvethisissueheentersinformationaboutpollyandlisaintoacomputerinsuranceprogramwhichmeasuresriskthecomputertellshimthatdespitehisnumerousblunderswithherpollyistheleastriskychoiceforreubenpollyjoinsreubenonasailingtripwhereheistoinspectlelandvanlewbryanbrownahighriskclientbutsheisoffendedwhensheseeshisriskanalysisofhersherejectshisproposaltomoveintogethertellinghimthathewouldbebetteroffgoingbacktolisabackhomereubentriestalkingtopollybuttonoavailheeventuallyinviteslisatosandysopeningshowwherehelearnsthatpollyisleavingnewyorkforcincinnatiinafewhoursafteraspeechgivenbyhisfatherirvingbobdishytosandyaboutnotlivinginthepastreubenrealizeshewantstobewithpollyandnotlisaandherushestoherapartmenttostopherfromleavingpollyisnotconvincedsheshouldstaywithhimsoreubeneatsfoodoffthegroundtoproveheiscapableoftakingrisksreubenandpollyvacationonthesamebeachwherelisaandhehadtheirhoneymoonreubenagainencountersclaudebutinsteadofbeingangryhethanksclaudebeforeheadingintothewaterwithpollytojoinvanlewonhisnewboat'\n",
            "Label(s): ['comedy']\n",
            "Predicted Label(s): romance,animated,science\n",
            " \n",
            "Abstract: b'inedwoodisstrugglingtojointhefilmindustryuponhearingofanannouncementinvarietymagazinethatproducergeorgeweissistryingtopurchasechristinejorgensenslifestorywoodwantstomeetweissweissexplainsthatvarietysannouncementwasanewsleakanditisimpossibletopurchasejorgensensrightstheproducerdecidestofictionalizethefilmtitledichangedmysexwoodtriestoconvinceweissthatheisperfecttodirectthefilmbutisunsuccessfulsinceweisswantsadirectorwithexperiencewoodmeetshislongtimeidolbelalugosiandthetwobecomefriendswoodpersuadesweisstolethimdirectthefilmbyconvincinghimthathavingastarinthefilmwouldsellticketsandtheycouldsignlugosiforalowpricewoodandweissargueoverthefilmstitleandsubjectmatterweisshastheposterprintedwhichwoodchangestoglenorglendaandwritesthefilmaboutatransvestiteratherthanasexchangeweissallowswoodtoshootwhateverhewantsaslongasthefilmmeetstherequiredlengthwoodtakestofilmproductionwithanunusualapproachshootingonlyonetakeperscenegivingactorsverylittledirectionandusingstockfootagetofillingapsthemovieisreleasedtocriticalandcommercialfailurebecauseofthiswoodisunsuccessfulingettingajobatscreenclassicsbuthisgirlfrienddoloresfullertellshimthatheshouldtryfinancinghisnextfilmindependentlywoodisunsuccessfulinfindingmoneyforbrideoftheatombutisintroducedtothepsychictheamazingcriswellwhogiveshimadviceonhowtosellhimselfbetterwoodmeetslorettakingwhomhethinkshasenoughmoneytofundbrideoftheatomandendsupcastingherastheleadinsteadoffullerasplannedfilmingbeginsbutishaltedwhenitisrevealedthatkingisactuallypoorandwoodhasnomoneytocontinueproductionwoodconvincesmeatpackingindustrytycoondonmccoytotakeoverfundingthefilmwhoagreesaslongasthefilmstarshissontonyastheleadingmanandthefilmendswithanexplosionthefilmingfinisheswiththetitlebeingchangedtobrideofthemonsterbutfullerbreaksupwithwoodafterthewrappartybecauseofhiscircleoffriendshisworkandtransvestismlugosiattemptstoconductadoublesuicidewithedafterthegovernmentcutsoffhisunemploymentbutistalkedoutofitlugosicheckshimselfintorehabandwoodmeetskathyoharawhoisvisitingherfathertherehetakesheronadateandrevealstoherhistransvestismwhichsheacceptswoodshootsafilmwithlugosioutsidehishomewhenwoodandcompanyattendthepremiereforbrideofthemonsteranangrymobchasesthemoutofthetheaterlugosipassesawayleavingwoodwithoutastarwoodconvinceshislandlordachurchleadernamedreynoldsthatfundingwoodsscriptforgraverobbersfromouterspacewouldresultinaboxofficesuccessandgenerateenoughmoneyforreynoldsdreamprojectdrtommasonoharaschiropractorischosentobelugosisstandinforresemblinglugosiwoodandthebaptistshaveconflictsoverthetitleandcontentofthescriptwhichtheywanttohavechangedtoplanfromouterspacealongwithedsbmoviedirectingstylehiscastingdecisionsandhistransvestismwoodleavesthesettogotothenearestbarwhereheencountershisidolorsonwellesfilmingforplanfinisheswithedtakingactionagainsthisproducersafterattendingthepremiereofplanwoodandoharagotolasvegastogetmarried'\n",
            "Label(s): ['comedy' 'biography']\n",
            "Predicted Label(s): romance,animated,science\n",
            " \n",
            "Abstract: b'thefilmstartswithamanmentionedinthecreditsasthethiefwhoappearstobeharvestingatypeoflarvafortheunusualeffectsithasonthehumanmindwheningestedataclubkrisamyseimetzistaseredandkidnappedbythethiefhedrugsherwithastrangecapsuleinducingasortofhypnoticsusceptibilitywhichcausesanextremelysuggestiblementalstatethatthethiefthenexploitsheusesanelaboratesetofdistractionssuchasgettinghertocreateapaperchainwhereeachlinkfeaturesatranscriptionfromthebookwaldeninordertodistractherwhileperforminghismindcontrolheeventuallymanipulateshertoliquidateherhomeequityandstealsavaluablecollectionofrarecoinsthroughhypnoticsuggestionkrisispreventedfromconsumingsolidfoodssheisonlyallowedtodrinksmallportionsofwateratregulatedintervalswhichsheiscompelledtoperceiveasextremelyrefreshinganddeliciousthecapsuleadministeredtokriscontainsalivelarvafoundamongtheleavesofthethiefsspecialbluetingedorchidflowersalarvathatpresumablyisinfectedwitharoundwormthatsubsequentlyinfectskrisssystemsheisreleasedfromhersuspensionofhungerbythethiefpresumablytotriggertheonsetofroundwormgrowthkrisbingesravenouslyandfallsasleepinsoiledclothessheawakesinherhometofindoneofseverallargeroundwormsvisiblycrawlingunderherskinsheunsuccessfullyattemptstoremovethembyusingakitchenknifelaterapigfarmerandavidfieldrecorderthesamplerdrawskristohisfarmusinginfrasonicswhichattractsthewormthesamplersilentlysetsupatransfusionthroughwhichhetransfersthewormfromkrissbodyintothatofayoungpigkristhenawakensinanabandonedsuvonthefreewaywithnomemoryoftheserecenttraumaticeventsuponarrivingatherdisorderedhouseshequizzicallynoticesbloodonhersheetsandfloorsandconsiderscallingthepolicesherealizesshehasnoinformationtotellthemandstopsdialingaftercleaningupsheheadstoworkwheresheispromptlyfiredforherunexplainedabsenceatriptothegrocerystorerevealstokristhatherpersonalfundsaregoneevidentlystolenbythethiefayearlaterkrismeetsamannamedjeffshanecarruthonatrainandunknowinglyconnectswithhimseeminglyonatelepathiclevelkrisandjeffmeetseveraltimesbeforefinallyspendingthenightwitheachotherandafterwardrealizetheybothretainidenticalstitchingscarsfromtheaforementionedforgottentransfusionsthetwoofthemsoonrealizethattheybothhadsimilarexperiencesjefflosthisjobasabrokerduetoshiftingcompanyfundsaroundtocoverformoneystolenfromhimandattributestheincidenttodrugabuseatthesametimeitismadecleartotheaudiencethataparallelexistsbetweentheemotionskrisandjeffhavebeenfeelingandtwopigsoneofwhichisthehosttokrissparasiteasanexamplekrismistakenlybelievesherselftobepregnantatthesametimeherpigcounterpartisactuallypregnantuponconsultationwithadoctorsheisdiagnosedwithhavinghadendometrialcancerthatwassuccessfullyremovedthesupposedcancersheistoldisnolongerathreattoherbodybutithasrenderedherinfertileandsheisunabletoconceivethesamplerfindsthatthepigcontainingkrisswormhasnowgivenbirthtopigletshethrowsthepigletsintoaburlapsackandtossesthemintoariverthiseventcoincideswithjeffandkrisfeelinganextremesenseoflossandfrustrationandbothactasifsomethingterribleishappeningtothemjeffspontaneouslypicksafightwithtwoofhiscoworkerswhilekrisfranticallysearchesasifshedlostsomethingthetwointheirpanickedstatereuniteandtraveltokrisshousewheretheygathersuppliesincludingagunandmakecampinherbathroomstubexpectingtheworstmeanwhilethesackofpigletsisseenrottingawayandabluesubstanceburstsfromthepigletsopenwoundsfillingthesurroundingwatersfromwhichorchidshaveemergedtheorchidseventuallyturnthesamecolorblueandarecollectedbyfarmerswhoselltheplantsintheneighborhoodwherethethiefoperatestheseeventsseemtomarkachangeinthestateofthingskrisandjeffbegintoremembereachotherspersonalhistoriesastheirownjeffdiscoverskrismumblingthetextofwaldenwhileswimmingitiswhileperformingthisritualthatkriscomestosensethingsthatthesamplerhassensedanditisthismomentthatthetwostarttopiecetogetherwhathappenedtothembothinadreamlikesequencekrisjeffandthesamplerallsitdownatthesametableinabarewhiteroomwherekrisrevealstothesamplerthatsheisawareofhimthesamplercollapsesfromanapparentheartattackthescenethencutssuddenlytoaparallelshotbackatthepigfarmwherekrisshootsandkillsthecollapsedsamplerkrisandjeffcollectaboxofwrittenrecordsrevealingotherswhoweresimilarlydruggedandthetwosummontheseotherpastvictimstothefarmbysendingthemcopiesofwaldenthefarmisthereafterremodeledandthepigsarebettercaredforasaresultnomorepigsaredrownedtheorchidsintherivernolongerturnbluethethiefisdeprivedoftheroundwormsforhisdrugthefilmendswithkriscradlingababypigasifforthemomentatpeace'\n",
            "Label(s): ['drama']\n",
            "Predicted Label(s): romance,animated,science\n",
            " \n",
            "Abstract: b'thesmalltownoforleanlocatedontheshoresofthesaltlakeinthealtaisteppeinthehospitalroomwhereafteryetanotherabortionthelocalbeautylidkaliesappearsastrangegentlemanwhoidentifieshimselfaspavlyuchekexecutionerhisquestionsdrivelidkatohystericsandsherunsforhelptoherfriendsurgeonrudikinachangedappearancetheclerkappearsintheapartmentofrudikwherelieshisparalyzedfatherinabadcondition'\n",
            "Label(s): ['comedy' 'thriller']\n",
            "Predicted Label(s): romance,animated,science\n",
            " \n",
            "Abstract: b'whileattendingapreviewofthefilmstabafilmwithinafilmbasedonthewoodsboromurderswindsorcollegeseniorsmaureenevansandphilstevensjadapinkettsmithandomareppsaremurderedbyghostfacephilisstabbedthroughtheearinabathroomstallwhiletryingtoeavesdroponstrangewhimperingnoisesthekillerwearingaghostfacecostumethenreturnstothescreeningandfatallystabsmaureenatfirsttheaudiencebelievestheacttobeapublicitystuntuntilshefallsdeadinfrontofthecinemascreenthefollowingdaythenewsmediaincludinglocaljournalistdebbiesaltlauriemetcalfdescendonwindsorcollegewheresidneyprescottnevecampbellnowstudiesalongsideherbestfriendhalliemcdanielelisenealandhernewboyfriendderekfeldmanjerryoconnellfellowwoodsborosurvivorrandymeeksjamiekennedyanddereksbestfriendmickeyaltieritimothyolyphanttwootherwoodsborosurvivorsarriveatthecampusofficerdwightdeweyrileydavidarquettetohelpsidneyandreportergaleweatherscourteneycoxtocoverthecasegaletriestostageaconfrontationbetweensidneyandcottonwearylievschreiberwhoisattemptingtogainfamefromhisexonerationforthemurderofsidneysmothermaureenprescottaftergaleforciblyconfrontssidneywithcottonsidneyangrilyhitsgalelaterthateveningsidneygoestoapartywithhallieatasororityhouseghostfacemurdersfellowstudentcicicoopersarahmichellegellarafterallthepartygoersleavethekillerthencrashesthepartyandattackssidneythoughderekintervenesthekillerinjuresderekbutdeweyandthepolicearrivepromptingthekillertofleethenextmorninggalediscussesthecasewiththepoliceuponrealizingthatcicisrealnameiscaseysheconcludesthatthekillerisacopycatwhotargetsstudentswhosharethesamenamesasthewoodsboromurdervictimsthatafternoonwhilegaleistalkingtodeweyandrandyonthecampuslawnshereceivesacallfromghostfacehintingthatheiswatchingthemtheysearchforhimbutrandywhotriestokeepthekilleronthephoneisdraggedintogalesbroadcastvanandismurderedbyghostfacegaledeweyandgalescameramanjoelseebloodcomingfromthevanandfindrandysdeadbodyinsideasnightfallsdeweyandgalereviewthetapeofghostfacekillingrandyhopingtofindsomecluesbutthekillerattacksthemandseeminglykillsdeweygalehidesandeventuallyescapesinthewakeoftheescalatingmurderstwoofficersdrivesidneyandhallietoalocalpolicestationbutthekillermurderstheofficersintheensuingstruggleghostfaceisknockedunconsciousaftertheyclimboutofthecarsidneyinsistsonunmaskinghimwhilehallieinsiststheyescapewhensidneywalksbacktothecarsheseesthatghostfacehasescapedwhothenstabshallietodeathforcingsidneytofleesidneygoesbacktothecampusandfindsderekintheauditoriumtiedtoacrucifixhismouthgaggedwithducttapeoncesidneyuntieshimsheisconfrontedbyghostfacewhorevealshimselfasmickeyandtellssidneythatderekishispartnerderekdesperatelytriestopersuadesidneythatheisinnocentandwhilesidneyisdecidingwhoistellingthetruthmickeykillsderekmickeydetailshisplantobecomefamousintheensuingtrialandmediaspectaclehethenannounceshisrealpartnerdebbiesaltwhoarrivesholdinggaleatgunpointsidneydiscoversthatdebbiesaltisactuallybillyloomismotherseekingrevengeforhersonsdeathmickeyexplainsthattheymetonlineandthatmrsloomisagreedtopayformickeystuitionfeewhilemickeydoestheactualkillingmrsloomisbetraysmickeyandshootshimassheplanstoblamethemurdersonmickeybeforehecollapsesmickeyaccidentallyshootsgalecausinghertofalloffthestagesidneyandmrsloomisfightuntilcottonintervenesandeventuallyshootsmrsloomisinthethroatastheydebatewhetherornotsheisdeadtheyfindgalestillalivemickeysuddenlyjumpstohisfeettryingtoattackthemonlytobeshotbysidneyandgaleintheheadsidneythenshootsmrsloomisintheheadtoconfirmherdeathwhenthepolicearrivethenextmorninggalefindsdeweybadlyinjuredbutstillaliveandaccompanieshimtothehospitalsidneyinstructsthepresstodirectquestionstocottonrewardinghimwiththefamehehasbeenchasingwhileremovingtheattentionfromherselfassheleavestheuniversitycampus'\n",
            "Label(s): ['horror']\n",
            "Predicted Label(s): romance,animated,science\n",
            " \n",
            "Abstract: b'insouthportmarylandsusanmorrisonteripolorecentlydivorcedfromherhusbandfrankjohntravoltawhoisastrugglingshipbuilderisgettingmarriedtoayoungerandwealthierrickbarnesvincevaughndannymattolearysusanandfrankstwelveyearoldsonisclearlyunhappythathismotherisremarryingsusanasksfranktoallowricktogosailingwithhimanddannytohelpdannybondwithandacceptrickasastepfatheraftertheweddingandabriefimprovementindannysandricksrelationshipdannydislikesrickonceagainduringagameofcatchbetweenthetworickclearlybecomesagitatedwithdannysambivalentplayingstyleandstartscriticizinghimharshlytherevelationthatsusanandrickarehavingababyworsensthesituationafterfindingoutaboutthebabydannystowsawayinrickschevysuburbanplanningtodropoffitenrouteandvisithisfatherbutwhiledannyisinsideheseesrickmurderingmysteriousstrangerraycolemanstevebuscemiwhoearlierattendedtheweddingunannouncedclaimingtobeanexbusinessassociateofrickdannyreportsthemurdertohisfatherandtothelocalpolicerickhoweverhasmanagedtodisposeofmostoftheevidenceandiswidelyconsideredapillarofthelocalcommunityasheinvestedhismoneyintheareawhereasdannyhasahistoryoflyingandmisdemeanorsfrankbelieveshissonthoughstemmingfromricksnotableuneasearoundcolemanattheceremonyandthefactthatdannyneverliestohimfrankdoessomeinvestigatingofhisownandunearthsrickscriminalpastwhichnowstandstoputhissonandexwifeinriskfranklearnsthatricksrealnameisjackparnellandthatheisacriminalwhowasacquittedwhilehispartnerswhichincludedcolemanwereconvictedjacktriestokillfrankbysettinghisboathouseonfirebutfrankmanagestoescapesusanrealizesthetruthwhensheseesalargeburnonjacksarmhavingheardaboutthefireattheboathousehoursearliershetriestoescapewithdannybutjackknocksheroutandtakesdannyasahostagefrankarrivestoconfrontjackashetriestofleejackandfrankfightandjackiskilledwhenatiedupdannypusheshimtoafuseboxelectrocutinghimsusanhasnoseriousphysicalinjuryfromtheconflictalthoughwelearnthatshemiscarriesherchild'\n",
            "Label(s): ['thriller']\n",
            "Predicted Label(s): romance,animated,science\n",
            " \n",
            "Abstract: b'thefilmalternatesbetweenthesandthestheearlytimelinebeginswithayoungbrianwilsonpauldanosufferingapanicattackonanairplaneitisagreedwiththerestofthebeachboysthatbrianwillnolongertourwiththemandwillinsteadfocusoncompositionandstudioworkdespiteresistancefromsomeofhisbandmatesbriancompletesthepetsoundsalbumitisacriticalhitbutsalesareunderwhelminglsdissuppliedtobrianbyacoterieofhippievagrantswhopraisehimasageniusandhismentalhealthsubsequentlyworsensafterthesuccessofanewsinglegoodvibrationshefailstocompletethealbumsmilehiswouldbemasterpieceasbriansbandmatesrecordtheirnextrecordwithouthimhelearnsthathisfatherhasillegitimatelysoldthepublishingrightstothebeachboyssongsthistimelineendswithbrianapatheticanddetachedfromlifeinthesanolderandheavilymedicatedbrianjohncusackmeetsmelindaledbetterelizabethbanksacadillacsaleswomanshebeginsarelationshipwithhimbutisdisturbedbythecontrollinginfluencebrianstherapistandlegalguardiandreugenelandypaulgiamattihasoverbrianslifeeventuallyshedisengagesfromtherelationshipbutnotbeforeprovidingevidencetobriansfamilythatlandyhasbeenmadeabeneficiaryinhiswillthisleadstoarestrainingorderbeingtakenouttopreventlandyfromseeingbrianwhobeginsanewandmoreappropriatecourseoftreatmentbrianaccidentallymeetsledbetteragainwhilewalkingacrossanintersectionandtheyeventuallygetmarried'\n",
            "Label(s): ['drama' 'biographical']\n",
            "Predicted Label(s): romance,animated,science\n",
            " \n",
            "Abstract: b'passingastagecoachwaystationonhisjourneyintotownpatbrennanrandolphscottagreestoreturnwithsomestoreboughtcandyforthefriendlystationmanagersyoungsonataranchwhereheonceworkedbrennantriestobuyabullbutistalkedintoridingoneifhewinshegetsthebullifheloseshehastogiveuphishorsebrennanlosesandisforcedtowalkhomecarryinghissaddlehegetsawelcomerescuebystagecoachdriverrintoonarthurhunnicutthiredtotransportthenewlywedswillardjohnhubbardanddorettamimsmaureenosullivandorettaisaplainwomanbutthedaughteroftherichestmaninthestateitticklesbrennanwhotellsrintoonthisisthefirsttimeheseverbeenonahoneymoonwhentheystopatthewaystationtheyaremistakenfortheregularstagebythreeoutlawschinkhenrysilvabillyjackskiphomeierandtheirleaderfrankusherrichardboonewhohavealreadykilledthestationmanagerandhissonrintoongoesforashotgunonlytobekilledbychinkterrifiedofsharingthesamefatewillardsuggeststotheoutlawsthatransominghiswifewouldbefarmoreprofitablethanrobbingthestagefranklikestheideahemakesonemistakethoughhetakesalikingtobrennanhelatertellsbrennanthatunderdifferentcircumstancestheymighthavebeenfriendsfranktakesthewomanandbrennantoaremotehideoutwhileorderingbillyjacktoridealongwithwillardanddeliveraransomnotetodorettasfatherdemandingwillardreturnssayinghisfatherinlawhasagreedandisroundingupthemoneywillardistoldheisnolongerneededandcanleaveacowardhedoesnotevenbothertosaygoodbyetohisnewwifedisgustingfrankwillardthenbeginstorideoffbutisshotdownbychinkbrennanknowsfullwellthatheanddorettawillendupdeadliketheothersoncetheransomispaidhetellsthedistraughtwidowtocollectherselfandbereadytotakeanyopportunitythatpresentsitselfhethentakesherinhisarmsshehesitatesthenkisseshimsheconfessesshemarriedwillardbecauseshewasgettingolderanddidnotwanttobealonebillyjackandchinkareleftbehindtoguardthehostageswhilefrankgoesofftocollectthemoneybrennanplantsthethoughtthattheirringleadermightjustrideoffwithallthemoneysochinkleavesthecamptokeepaneyeonfrankbrennansuggeststobillyjackthathetakeadvantageofmrswillardalonelywomandeniedevenherweddingnightbillyjackdoesindeedtrytoforcehimselfondorettawhereuponbrennanoverpowershimandshootshimdeadchinkhearstheshotsandturnsbackbrennankillshimfrankthenreturnswiththemoneybrennansneaksupbehindhimsofranksurrendershisrevolverandthemoneygamblingthatbrennanwillnotshoothiminthebackheslowlymountshishorseandridesoffhoweverheturnsaroundandcomesbackandtriestokillbrennanwitharifleforcingbrennantoshoothimdeadasbrennananddorettawalkawaysidebysideshereachesforbrennansarmasheplaceshisarmaroundher'\n",
            "Label(s): ['western']\n",
            "Predicted Label(s): romance,animated,science\n",
            " \n"
          ]
        }
      ],
      "source": [
        "model_for_inference = keras.Sequential([text_vectorizer, shallow_mlp_model])\n",
        "#create a small dataset just for demoing inference.\n",
        "inference_dataset = make_dataset(test_df.sample(100), is_train=False)\n",
        "text_batch, label_batch = next(iter(inference_dataset))\n",
        "predicted_probabilities = model_for_inference.predict(text_batch)\n",
        "for i, text in enumerate(text_batch[:15]):\n",
        "  label = label_batch[i].numpy() [None, ...]\n",
        "  print(f\"Abstract: {text}\")\n",
        "  print(f\"Label(s): {invert_multi_hot(label[0])}\")\n",
        "  predicted_proba = [proba for proba in predicted_probabilities[i]]\n",
        "  top_3_labels = [\n",
        "      x\n",
        "      for _, x in sorted(\n",
        "          zip(predicted_probabilities[i], lookup.get_vocabulary()),\n",
        "          key=lambda pair: pair[0],\n",
        "          reverse=True\n",
        "      )[:3]\n",
        "  ]\n",
        "  print(f\"Predicted Label(s): {','.join([label for label in top_3_labels])}\")\n",
        "  print(\" \")"
      ]
    },
    {
      "cell_type": "code",
      "execution_count": null,
      "metadata": {
        "colab": {
          "base_uri": "https://localhost:8080/"
        },
        "id": "40_tVpWN0cyv",
        "outputId": "65360527-0d02-449e-e602-b54d662ffd84"
      },
      "outputs": [
        {
          "name": "stderr",
          "output_type": "stream",
          "text": [
            "WARNING:absl:Compiled the loaded model, but the compiled metrics have yet to be built. `model.compile_metrics` will be empty until you train or evaluate the model.\n"
          ]
        },
        {
          "name": "stdout",
          "output_type": "stream",
          "text": [
            "\u001b[1m1/1\u001b[0m \u001b[32m━━━━━━━━━━━━━━━━━━━━\u001b[0m\u001b[37m\u001b[0m \u001b[1m0s\u001b[0m 78ms/step\n",
            "Predictions: [(np.str_('romance'), 1.0), (np.str_('historical'), 8.271132966989525e-35), (np.str_('social'), 3.719507319668643e-37)]\n"
          ]
        }
      ],
      "source": [
        "# ================= Prediction Code for Text (Plots only) =================\n",
        "\n",
        "import tensorflow as tf\n",
        "import joblib\n",
        "import numpy as np\n",
        "\n",
        "# Load model and label encoder\n",
        "model = tf.keras.models.load_model(\"/content/plot_genre_model.h5\")   # use the filename you saved\n",
        "lookup = joblib.load(\"/content/label_encoder.joblib\")\n",
        "vocab = lookup.get_vocabulary()\n",
        "\n",
        "MAX_LEN = 300   # must match what you used in training (sequence length)\n",
        "# Invert the multi-hot encoding to get genre names\n",
        "def invert_multi_hot(encoded_labels):\n",
        "  \"\"\"Reverse a single multi-hot encoded label to a tuple of vocab terms.\"\"\"\n",
        "  hot_indices = np.argwhere(encoded_labels == 1.0)[..., 0]\n",
        "  return np.take(vocab, hot_indices)\n",
        "\n",
        "\n",
        "def predict_movie_genre(plot_text, top_k=3):\n",
        "    \"\"\"\n",
        "    Predict genre(s) from a movie plot text.\n",
        "    Args:\n",
        "        plot_text (str): Movie plot description\n",
        "        top_k (int): Number of top predictions to return\n",
        "    Returns:\n",
        "        List of (genre, probability) tuples\n",
        "    \"\"\"\n",
        "    # Tokenize same way as training\n",
        "    # Assuming text_vectorizer is available from previous steps\n",
        "    vectorized_text = text_vectorizer([plot_text])\n",
        "\n",
        "    preds = model.predict(vectorized_text)\n",
        "\n",
        "\n",
        "    probs = preds[0]\n",
        "    top_idxs = probs.argsort()[-top_k:][::-1]\n",
        "    results = [(vocab[i], float(probs[i])) for i in top_idxs]\n",
        "    return results\n",
        "\n",
        "# Example usage:\n",
        "sample_plot = \"A young boy discovers he is a wizard and attends a magical school where he battles dark forces.\"\n",
        "print(\"Predictions:\", predict_movie_genre(sample_plot, top_k=3))"
      ]
    },
    {
      "cell_type": "code",
      "execution_count": null,
      "metadata": {
        "colab": {
          "base_uri": "https://localhost:8080/"
        },
        "id": "7jAuD1aSpPOx",
        "outputId": "96e275b5-7529-4fea-dcf0-32ba5c70d30e"
      },
      "outputs": [
        {
          "name": "stdout",
          "output_type": "stream",
          "text": [
            "\u001b[1m11/11\u001b[0m \u001b[32m━━━━━━━━━━━━━━━━━━━━\u001b[0m\u001b[37m\u001b[0m \u001b[1m1s\u001b[0m 69ms/step\n",
            "F1 Score (macro): 0.0018277047015386883\n"
          ]
        }
      ],
      "source": [
        "from sklearn.metrics import f1_score\n",
        "import tensorflow as tf\n",
        "\n",
        "# True labels from your test set\n",
        "y_true_list = test_df['Genre_list'].values\n",
        "y_true_binarized = lookup(tf.ragged.constant(y_true_list)).numpy()\n",
        "\n",
        "# Predicted labels\n",
        "y_prob = shallow_mlp_model.predict(test_dataset)\n",
        "y_pred_binarized = (y_prob >= 0.9).astype(int)\n",
        "\n",
        "\n",
        "# Print only F1 score (macro average recommended for multi-class)\n",
        "print(\"F1 Score (macro):\", f1_score(y_true_binarized, y_pred_binarized, average=\"macro\", zero_division=0))"
      ]
    },
    {
      "cell_type": "code",
      "execution_count": null,
      "metadata": {
        "colab": {
          "base_uri": "https://localhost:8080/"
        },
        "id": "gKO507PCraNk",
        "outputId": "5fd363f1-27d7-4c78-af6e-de99a9cf6856"
      },
      "outputs": [
        {
          "name": "stdout",
          "output_type": "stream",
          "text": [
            "Collecting gtts\n",
            "  Downloading gTTS-2.5.4-py3-none-any.whl.metadata (4.1 kB)\n",
            "Requirement already satisfied: requests<3,>=2.27 in /usr/local/lib/python3.12/dist-packages (from gtts) (2.32.4)\n",
            "Collecting click<8.2,>=7.1 (from gtts)\n",
            "  Downloading click-8.1.8-py3-none-any.whl.metadata (2.3 kB)\n",
            "Requirement already satisfied: charset_normalizer<4,>=2 in /usr/local/lib/python3.12/dist-packages (from requests<3,>=2.27->gtts) (3.4.3)\n",
            "Requirement already satisfied: idna<4,>=2.5 in /usr/local/lib/python3.12/dist-packages (from requests<3,>=2.27->gtts) (3.10)\n",
            "Requirement already satisfied: urllib3<3,>=1.21.1 in /usr/local/lib/python3.12/dist-packages (from requests<3,>=2.27->gtts) (2.5.0)\n",
            "Requirement already satisfied: certifi>=2017.4.17 in /usr/local/lib/python3.12/dist-packages (from requests<3,>=2.27->gtts) (2025.8.3)\n",
            "Downloading gTTS-2.5.4-py3-none-any.whl (29 kB)\n",
            "Downloading click-8.1.8-py3-none-any.whl (98 kB)\n",
            "\u001b[2K   \u001b[90m━━━━━━━━━━━━━━━━━━━━━━━━━━━━━━━━━━━━━━━━\u001b[0m \u001b[32m98.2/98.2 kB\u001b[0m \u001b[31m7.7 MB/s\u001b[0m eta \u001b[36m0:00:00\u001b[0m\n",
            "\u001b[?25hInstalling collected packages: click, gtts\n",
            "  Attempting uninstall: click\n",
            "    Found existing installation: click 8.2.1\n",
            "    Uninstalling click-8.2.1:\n",
            "      Successfully uninstalled click-8.2.1\n",
            "Successfully installed click-8.1.8 gtts-2.5.4\n",
            "Requirement already satisfied: IPython in /usr/local/lib/python3.12/dist-packages (7.34.0)\n",
            "Requirement already satisfied: setuptools>=18.5 in /usr/local/lib/python3.12/dist-packages (from IPython) (75.2.0)\n",
            "Collecting jedi>=0.16 (from IPython)\n",
            "  Downloading jedi-0.19.2-py2.py3-none-any.whl.metadata (22 kB)\n",
            "Requirement already satisfied: decorator in /usr/local/lib/python3.12/dist-packages (from IPython) (4.4.2)\n",
            "Requirement already satisfied: pickleshare in /usr/local/lib/python3.12/dist-packages (from IPython) (0.7.5)\n",
            "Requirement already satisfied: traitlets>=4.2 in /usr/local/lib/python3.12/dist-packages (from IPython) (5.7.1)\n",
            "Requirement already satisfied: prompt-toolkit!=3.0.0,!=3.0.1,<3.1.0,>=2.0.0 in /usr/local/lib/python3.12/dist-packages (from IPython) (3.0.52)\n",
            "Requirement already satisfied: pygments in /usr/local/lib/python3.12/dist-packages (from IPython) (2.19.2)\n",
            "Requirement already satisfied: backcall in /usr/local/lib/python3.12/dist-packages (from IPython) (0.2.0)\n",
            "Requirement already satisfied: matplotlib-inline in /usr/local/lib/python3.12/dist-packages (from IPython) (0.1.7)\n",
            "Requirement already satisfied: pexpect>4.3 in /usr/local/lib/python3.12/dist-packages (from IPython) (4.9.0)\n",
            "Requirement already satisfied: parso<0.9.0,>=0.8.4 in /usr/local/lib/python3.12/dist-packages (from jedi>=0.16->IPython) (0.8.5)\n",
            "Requirement already satisfied: ptyprocess>=0.5 in /usr/local/lib/python3.12/dist-packages (from pexpect>4.3->IPython) (0.7.0)\n",
            "Requirement already satisfied: wcwidth in /usr/local/lib/python3.12/dist-packages (from prompt-toolkit!=3.0.0,!=3.0.1,<3.1.0,>=2.0.0->IPython) (0.2.13)\n",
            "Downloading jedi-0.19.2-py2.py3-none-any.whl (1.6 MB)\n",
            "\u001b[2K   \u001b[90m━━━━━━━━━━━━━━━━━━━━━━━━━━━━━━━━━━━━━━━━\u001b[0m \u001b[32m1.6/1.6 MB\u001b[0m \u001b[31m43.4 MB/s\u001b[0m eta \u001b[36m0:00:00\u001b[0m\n",
            "\u001b[?25hInstalling collected packages: jedi\n",
            "Successfully installed jedi-0.19.2\n"
          ]
        }
      ],
      "source": [
        "%pip install gtts\n",
        "%pip install IPython"
      ]
    },
    {
      "cell_type": "code",
      "execution_count": null,
      "metadata": {
        "colab": {
          "base_uri": "https://localhost:8080/",
          "height": 110
        },
        "id": "jA4nOvM1rS8X",
        "outputId": "09d108a5-5f98-49f6-cc39-69eda1aa493c"
      },
      "outputs": [
        {
          "name": "stdout",
          "output_type": "stream",
          "text": [
            "\u001b[1m1/1\u001b[0m \u001b[32m━━━━━━━━━━━━━━━━━━━━\u001b[0m\u001b[37m\u001b[0m \u001b[1m0s\u001b[0m 53ms/step\n",
            "Predicted genre: romance\n"
          ]
        },
        {
          "data": {
            "text/html": [
              "\n",
              "                <audio  controls=\"controls\" autoplay=\"autoplay\">\n",
              "                    <source src=\"data:audio/mpeg;base64,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\" type=\"audio/mpeg\" />\n",
              "                    Your browser does not support the audio element.\n",
              "                </audio>\n",
              "              "
            ],
            "text/plain": [
              "<IPython.lib.display.Audio object>"
            ]
          },
          "metadata": {},
          "output_type": "display_data"
        }
      ],
      "source": [
        "from gtts import gTTS\n",
        "from IPython.display import Audio, display\n",
        "\n",
        "def speak_prediction(predicted_genre):\n",
        "    output_text = f\"The predicted movie genre is {predicted_genre}.\"\n",
        "    tts = gTTS(text=output_text, lang=\"en\")\n",
        "    tts.save(\"output.mp3\")\n",
        "    display(Audio(\"output.mp3\", autoplay=True))\n",
        "\n",
        "# --- Prediction + Speech ---\n",
        "# Define a sample movie plot for demonstration\n",
        "new_movie_plot = \"A young boy discovers he is a wizard and attends a magical school where he battles dark forces.\"\n",
        "\n",
        "predicted_genre = predict_movie_genre(new_movie_plot, top_k=1)[0][0] # Get the top predicted genre\n",
        "\n",
        "print(\"Predicted genre:\", predicted_genre)\n",
        "speak_prediction(predicted_genre)"
      ]
    }
  ],
  "metadata": {
    "colab": {
      "provenance": []
    },
    "kernelspec": {
      "display_name": "Python 3",
      "name": "python3"
    },
    "language_info": {
      "name": "python"
    }
  },
  "nbformat": 4,
  "nbformat_minor": 0
}
